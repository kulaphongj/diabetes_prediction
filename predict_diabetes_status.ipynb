{
 "cells": [
  {
   "cell_type": "code",
   "execution_count": 32,
   "id": "2f954ae6",
   "metadata": {
    "ExecuteTime": {
     "end_time": "2024-03-21T02:15:33.124968Z",
     "start_time": "2024-03-21T02:15:33.122114Z"
    }
   },
   "outputs": [],
   "source": [
    "import pandas as pd\n",
    "pd.set_option('display.max_columns', 100)\n",
    "pd.set_option('display.max_colwidth', 100)\n",
    "import numpy as np\n",
    "\n",
    "import matplotlib.pyplot as plt\n",
    "import seaborn as sns\n",
    "\n",
    "import pandas as pd\n",
    "from sklearn.model_selection import train_test_split\n",
    "from sklearn.linear_model import LogisticRegression\n",
    "from sklearn.tree import DecisionTreeClassifier\n",
    "from sklearn.ensemble import RandomForestClassifier\n",
    "from sklearn.model_selection import GridSearchCV, cross_val_score\n",
    "from sklearn.metrics import f1_score, roc_auc_score, r2_score\n",
    "import matplotlib.pyplot as plt\n",
    "from sklearn.preprocessing import StandardScaler\n",
    "\n",
    "\n",
    "import warnings\n",
    "warnings.filterwarnings(\"ignore\")"
   ]
  },
  {
   "cell_type": "code",
   "execution_count": 3,
   "id": "cb08ad93",
   "metadata": {
    "ExecuteTime": {
     "end_time": "2024-03-21T01:37:05.764036Z",
     "start_time": "2024-03-21T01:37:05.550536Z"
    }
   },
   "outputs": [
    {
     "name": "stdout",
     "output_type": "stream",
     "text": [
      "(253680, 22)\n"
     ]
    }
   ],
   "source": [
    "df_dbt = pd.read_csv('./data/diabetes_binary_health_indicators_BRFSS2015.csv')\n",
    "print(df_dbt.shape)"
   ]
  },
  {
   "cell_type": "code",
   "execution_count": 4,
   "id": "d83ea387",
   "metadata": {
    "ExecuteTime": {
     "end_time": "2024-03-21T01:37:05.780584Z",
     "start_time": "2024-03-21T01:37:05.766557Z"
    }
   },
   "outputs": [
    {
     "data": {
      "text/html": [
       "<div>\n",
       "<style scoped>\n",
       "    .dataframe tbody tr th:only-of-type {\n",
       "        vertical-align: middle;\n",
       "    }\n",
       "\n",
       "    .dataframe tbody tr th {\n",
       "        vertical-align: top;\n",
       "    }\n",
       "\n",
       "    .dataframe thead th {\n",
       "        text-align: right;\n",
       "    }\n",
       "</style>\n",
       "<table border=\"1\" class=\"dataframe\">\n",
       "  <thead>\n",
       "    <tr style=\"text-align: right;\">\n",
       "      <th></th>\n",
       "      <th>Diabetes_binary</th>\n",
       "      <th>HighBP</th>\n",
       "      <th>HighChol</th>\n",
       "      <th>CholCheck</th>\n",
       "      <th>BMI</th>\n",
       "      <th>Smoker</th>\n",
       "      <th>Stroke</th>\n",
       "      <th>HeartDiseaseorAttack</th>\n",
       "      <th>PhysActivity</th>\n",
       "      <th>Fruits</th>\n",
       "      <th>Veggies</th>\n",
       "      <th>HvyAlcoholConsump</th>\n",
       "      <th>AnyHealthcare</th>\n",
       "      <th>NoDocbcCost</th>\n",
       "      <th>GenHlth</th>\n",
       "      <th>MentHlth</th>\n",
       "      <th>PhysHlth</th>\n",
       "      <th>DiffWalk</th>\n",
       "      <th>Sex</th>\n",
       "      <th>Age</th>\n",
       "      <th>Education</th>\n",
       "      <th>Income</th>\n",
       "    </tr>\n",
       "  </thead>\n",
       "  <tbody>\n",
       "    <tr>\n",
       "      <th>0</th>\n",
       "      <td>0.0</td>\n",
       "      <td>1.0</td>\n",
       "      <td>1.0</td>\n",
       "      <td>1.0</td>\n",
       "      <td>40.0</td>\n",
       "      <td>1.0</td>\n",
       "      <td>0.0</td>\n",
       "      <td>0.0</td>\n",
       "      <td>0.0</td>\n",
       "      <td>0.0</td>\n",
       "      <td>1.0</td>\n",
       "      <td>0.0</td>\n",
       "      <td>1.0</td>\n",
       "      <td>0.0</td>\n",
       "      <td>5.0</td>\n",
       "      <td>18.0</td>\n",
       "      <td>15.0</td>\n",
       "      <td>1.0</td>\n",
       "      <td>0.0</td>\n",
       "      <td>9.0</td>\n",
       "      <td>4.0</td>\n",
       "      <td>3.0</td>\n",
       "    </tr>\n",
       "    <tr>\n",
       "      <th>1</th>\n",
       "      <td>0.0</td>\n",
       "      <td>0.0</td>\n",
       "      <td>0.0</td>\n",
       "      <td>0.0</td>\n",
       "      <td>25.0</td>\n",
       "      <td>1.0</td>\n",
       "      <td>0.0</td>\n",
       "      <td>0.0</td>\n",
       "      <td>1.0</td>\n",
       "      <td>0.0</td>\n",
       "      <td>0.0</td>\n",
       "      <td>0.0</td>\n",
       "      <td>0.0</td>\n",
       "      <td>1.0</td>\n",
       "      <td>3.0</td>\n",
       "      <td>0.0</td>\n",
       "      <td>0.0</td>\n",
       "      <td>0.0</td>\n",
       "      <td>0.0</td>\n",
       "      <td>7.0</td>\n",
       "      <td>6.0</td>\n",
       "      <td>1.0</td>\n",
       "    </tr>\n",
       "  </tbody>\n",
       "</table>\n",
       "</div>"
      ],
      "text/plain": [
       "   Diabetes_binary  HighBP  HighChol  CholCheck   BMI  Smoker  Stroke  \\\n",
       "0              0.0     1.0       1.0        1.0  40.0     1.0     0.0   \n",
       "1              0.0     0.0       0.0        0.0  25.0     1.0     0.0   \n",
       "\n",
       "   HeartDiseaseorAttack  PhysActivity  Fruits  Veggies  HvyAlcoholConsump  \\\n",
       "0                   0.0           0.0     0.0      1.0                0.0   \n",
       "1                   0.0           1.0     0.0      0.0                0.0   \n",
       "\n",
       "   AnyHealthcare  NoDocbcCost  GenHlth  MentHlth  PhysHlth  DiffWalk  Sex  \\\n",
       "0            1.0          0.0      5.0      18.0      15.0       1.0  0.0   \n",
       "1            0.0          1.0      3.0       0.0       0.0       0.0  0.0   \n",
       "\n",
       "   Age  Education  Income  \n",
       "0  9.0        4.0     3.0  \n",
       "1  7.0        6.0     1.0  "
      ]
     },
     "execution_count": 4,
     "metadata": {},
     "output_type": "execute_result"
    }
   ],
   "source": [
    "df_dbt.head(2)"
   ]
  },
  {
   "cell_type": "code",
   "execution_count": 5,
   "id": "2ee0b7dd",
   "metadata": {
    "ExecuteTime": {
     "end_time": "2024-03-21T01:37:05.787536Z",
     "start_time": "2024-03-21T01:37:05.782047Z"
    }
   },
   "outputs": [
    {
     "data": {
      "text/plain": [
       "0.0    0.860667\n",
       "1.0    0.139333\n",
       "Name: Diabetes_binary, dtype: float64"
      ]
     },
     "execution_count": 5,
     "metadata": {},
     "output_type": "execute_result"
    }
   ],
   "source": [
    "df_dbt['Diabetes_binary'].value_counts(dropna=False, normalize=True)"
   ]
  },
  {
   "cell_type": "markdown",
   "id": "6771fd14",
   "metadata": {},
   "source": [
    "# Split Data to Train/Test"
   ]
  },
  {
   "cell_type": "code",
   "execution_count": 6,
   "id": "88962e87",
   "metadata": {
    "ExecuteTime": {
     "end_time": "2024-03-21T01:37:05.836112Z",
     "start_time": "2024-03-21T01:37:05.788732Z"
    }
   },
   "outputs": [
    {
     "name": "stdout",
     "output_type": "stream",
     "text": [
      "(202944, 21) (50736, 21)\n"
     ]
    }
   ],
   "source": [
    "df_train, df_test = train_test_split(df_dbt, test_size=0.2, random_state=42)\n",
    "\n",
    "\n",
    "X = df_dbt.drop('Diabetes_binary', axis=1)\n",
    "y = df_dbt[['Diabetes_binary']]\n",
    "\n",
    "X_train = df_train.drop('Diabetes_binary', axis=1)\n",
    "X_test = df_test.drop('Diabetes_binary', axis=1)\n",
    "\n",
    "y_train = df_train[['Diabetes_binary']]\n",
    "y_test = df_test[['Diabetes_binary']]\n",
    "\n",
    "print(X_train.shape, X_test.shape)"
   ]
  },
  {
   "cell_type": "code",
   "execution_count": 7,
   "id": "99312348",
   "metadata": {
    "ExecuteTime": {
     "end_time": "2024-03-21T01:37:05.843967Z",
     "start_time": "2024-03-21T01:37:05.837355Z"
    }
   },
   "outputs": [
    {
     "data": {
      "text/plain": [
       "Diabetes_binary\n",
       "0.0                0.86209\n",
       "1.0                0.13791\n",
       "dtype: float64"
      ]
     },
     "execution_count": 7,
     "metadata": {},
     "output_type": "execute_result"
    }
   ],
   "source": [
    "y_test.value_counts(normalize=True)"
   ]
  },
  {
   "cell_type": "markdown",
   "id": "0eb143d1",
   "metadata": {},
   "source": [
    "# Data Preprocessing"
   ]
  },
  {
   "cell_type": "code",
   "execution_count": 8,
   "id": "37bf6d85",
   "metadata": {
    "ExecuteTime": {
     "end_time": "2024-03-21T01:37:05.884122Z",
     "start_time": "2024-03-21T01:37:05.844878Z"
    }
   },
   "outputs": [
    {
     "data": {
      "text/html": [
       "<div>\n",
       "<style scoped>\n",
       "    .dataframe tbody tr th:only-of-type {\n",
       "        vertical-align: middle;\n",
       "    }\n",
       "\n",
       "    .dataframe tbody tr th {\n",
       "        vertical-align: top;\n",
       "    }\n",
       "\n",
       "    .dataframe thead th {\n",
       "        text-align: right;\n",
       "    }\n",
       "</style>\n",
       "<table border=\"1\" class=\"dataframe\">\n",
       "  <thead>\n",
       "    <tr style=\"text-align: right;\">\n",
       "      <th></th>\n",
       "      <th>HighBP</th>\n",
       "      <th>HighChol</th>\n",
       "      <th>CholCheck</th>\n",
       "      <th>BMI</th>\n",
       "      <th>Smoker</th>\n",
       "      <th>Stroke</th>\n",
       "      <th>HeartDiseaseorAttack</th>\n",
       "      <th>PhysActivity</th>\n",
       "      <th>Fruits</th>\n",
       "      <th>Veggies</th>\n",
       "      <th>HvyAlcoholConsump</th>\n",
       "      <th>AnyHealthcare</th>\n",
       "      <th>NoDocbcCost</th>\n",
       "      <th>GenHlth</th>\n",
       "      <th>MentHlth</th>\n",
       "      <th>PhysHlth</th>\n",
       "      <th>DiffWalk</th>\n",
       "      <th>Sex</th>\n",
       "      <th>Age</th>\n",
       "      <th>Education</th>\n",
       "      <th>Income</th>\n",
       "    </tr>\n",
       "  </thead>\n",
       "  <tbody>\n",
       "    <tr>\n",
       "      <th>31141</th>\n",
       "      <td>-0.865390</td>\n",
       "      <td>1.166346</td>\n",
       "      <td>0.196705</td>\n",
       "      <td>-1.266092</td>\n",
       "      <td>1.121615</td>\n",
       "      <td>-0.205655</td>\n",
       "      <td>-0.322556</td>\n",
       "      <td>0.566448</td>\n",
       "      <td>0.759129</td>\n",
       "      <td>0.481542</td>\n",
       "      <td>-0.243971</td>\n",
       "      <td>0.226927</td>\n",
       "      <td>-0.303036</td>\n",
       "      <td>-0.479136</td>\n",
       "      <td>-0.429902</td>\n",
       "      <td>-0.487197</td>\n",
       "      <td>-0.449845</td>\n",
       "      <td>1.127175</td>\n",
       "      <td>1.299401</td>\n",
       "      <td>0.962174</td>\n",
       "      <td>0.939707</td>\n",
       "    </tr>\n",
       "    <tr>\n",
       "      <th>98230</th>\n",
       "      <td>-0.865390</td>\n",
       "      <td>-0.857379</td>\n",
       "      <td>0.196705</td>\n",
       "      <td>0.851152</td>\n",
       "      <td>-0.891572</td>\n",
       "      <td>-0.205655</td>\n",
       "      <td>-0.322556</td>\n",
       "      <td>0.566448</td>\n",
       "      <td>-1.317300</td>\n",
       "      <td>0.481542</td>\n",
       "      <td>-0.243971</td>\n",
       "      <td>0.226927</td>\n",
       "      <td>-0.303036</td>\n",
       "      <td>0.456986</td>\n",
       "      <td>-0.429902</td>\n",
       "      <td>-0.487197</td>\n",
       "      <td>-0.449845</td>\n",
       "      <td>1.127175</td>\n",
       "      <td>-0.010752</td>\n",
       "      <td>-0.051302</td>\n",
       "      <td>0.939707</td>\n",
       "    </tr>\n",
       "    <tr>\n",
       "      <th>89662</th>\n",
       "      <td>1.155549</td>\n",
       "      <td>1.166346</td>\n",
       "      <td>0.196705</td>\n",
       "      <td>-0.661165</td>\n",
       "      <td>-0.891572</td>\n",
       "      <td>-0.205655</td>\n",
       "      <td>-0.322556</td>\n",
       "      <td>0.566448</td>\n",
       "      <td>0.759129</td>\n",
       "      <td>0.481542</td>\n",
       "      <td>-0.243971</td>\n",
       "      <td>0.226927</td>\n",
       "      <td>-0.303036</td>\n",
       "      <td>-0.479136</td>\n",
       "      <td>-0.429902</td>\n",
       "      <td>0.086139</td>\n",
       "      <td>-0.449845</td>\n",
       "      <td>1.127175</td>\n",
       "      <td>1.299401</td>\n",
       "      <td>-0.051302</td>\n",
       "      <td>-0.025387</td>\n",
       "    </tr>\n",
       "    <tr>\n",
       "      <th>208255</th>\n",
       "      <td>-0.865390</td>\n",
       "      <td>1.166346</td>\n",
       "      <td>0.196705</td>\n",
       "      <td>-0.207470</td>\n",
       "      <td>-0.891572</td>\n",
       "      <td>-0.205655</td>\n",
       "      <td>-0.322556</td>\n",
       "      <td>0.566448</td>\n",
       "      <td>0.759129</td>\n",
       "      <td>0.481542</td>\n",
       "      <td>-0.243971</td>\n",
       "      <td>0.226927</td>\n",
       "      <td>-0.303036</td>\n",
       "      <td>-1.415258</td>\n",
       "      <td>-0.429902</td>\n",
       "      <td>-0.487197</td>\n",
       "      <td>-0.449845</td>\n",
       "      <td>1.127175</td>\n",
       "      <td>-0.993367</td>\n",
       "      <td>0.962174</td>\n",
       "      <td>0.457160</td>\n",
       "    </tr>\n",
       "    <tr>\n",
       "      <th>233415</th>\n",
       "      <td>-0.865390</td>\n",
       "      <td>1.166346</td>\n",
       "      <td>0.196705</td>\n",
       "      <td>-0.661165</td>\n",
       "      <td>-0.891572</td>\n",
       "      <td>-0.205655</td>\n",
       "      <td>-0.322556</td>\n",
       "      <td>0.566448</td>\n",
       "      <td>0.759129</td>\n",
       "      <td>0.481542</td>\n",
       "      <td>-0.243971</td>\n",
       "      <td>0.226927</td>\n",
       "      <td>-0.303036</td>\n",
       "      <td>0.456986</td>\n",
       "      <td>-0.429902</td>\n",
       "      <td>-0.487197</td>\n",
       "      <td>2.222989</td>\n",
       "      <td>-0.887173</td>\n",
       "      <td>1.299401</td>\n",
       "      <td>-1.064778</td>\n",
       "      <td>-0.025387</td>\n",
       "    </tr>\n",
       "  </tbody>\n",
       "</table>\n",
       "</div>"
      ],
      "text/plain": [
       "          HighBP  HighChol  CholCheck       BMI    Smoker    Stroke  \\\n",
       "31141  -0.865390  1.166346   0.196705 -1.266092  1.121615 -0.205655   \n",
       "98230  -0.865390 -0.857379   0.196705  0.851152 -0.891572 -0.205655   \n",
       "89662   1.155549  1.166346   0.196705 -0.661165 -0.891572 -0.205655   \n",
       "208255 -0.865390  1.166346   0.196705 -0.207470 -0.891572 -0.205655   \n",
       "233415 -0.865390  1.166346   0.196705 -0.661165 -0.891572 -0.205655   \n",
       "\n",
       "        HeartDiseaseorAttack  PhysActivity    Fruits   Veggies  \\\n",
       "31141              -0.322556      0.566448  0.759129  0.481542   \n",
       "98230              -0.322556      0.566448 -1.317300  0.481542   \n",
       "89662              -0.322556      0.566448  0.759129  0.481542   \n",
       "208255             -0.322556      0.566448  0.759129  0.481542   \n",
       "233415             -0.322556      0.566448  0.759129  0.481542   \n",
       "\n",
       "        HvyAlcoholConsump  AnyHealthcare  NoDocbcCost   GenHlth  MentHlth  \\\n",
       "31141           -0.243971       0.226927    -0.303036 -0.479136 -0.429902   \n",
       "98230           -0.243971       0.226927    -0.303036  0.456986 -0.429902   \n",
       "89662           -0.243971       0.226927    -0.303036 -0.479136 -0.429902   \n",
       "208255          -0.243971       0.226927    -0.303036 -1.415258 -0.429902   \n",
       "233415          -0.243971       0.226927    -0.303036  0.456986 -0.429902   \n",
       "\n",
       "        PhysHlth  DiffWalk       Sex       Age  Education    Income  \n",
       "31141  -0.487197 -0.449845  1.127175  1.299401   0.962174  0.939707  \n",
       "98230  -0.487197 -0.449845  1.127175 -0.010752  -0.051302  0.939707  \n",
       "89662   0.086139 -0.449845  1.127175  1.299401  -0.051302 -0.025387  \n",
       "208255 -0.487197 -0.449845  1.127175 -0.993367   0.962174  0.457160  \n",
       "233415 -0.487197  2.222989 -0.887173  1.299401  -1.064778 -0.025387  "
      ]
     },
     "execution_count": 8,
     "metadata": {},
     "output_type": "execute_result"
    }
   ],
   "source": [
    "scaler = StandardScaler()\n",
    "X_train_scaled = scaler.fit_transform(X_train)\n",
    "X_train_scaled = pd.DataFrame(X_train_scaled)\n",
    "X_train_scaled.columns = X_train.columns\n",
    "X_train_scaled.index = X_train.index\n",
    "X_train_scaled.head()"
   ]
  },
  {
   "cell_type": "code",
   "execution_count": 9,
   "id": "e4aa5ef7",
   "metadata": {
    "ExecuteTime": {
     "end_time": "2024-03-21T01:37:05.897213Z",
     "start_time": "2024-03-21T01:37:05.885501Z"
    }
   },
   "outputs": [
    {
     "data": {
      "text/html": [
       "<div>\n",
       "<style scoped>\n",
       "    .dataframe tbody tr th:only-of-type {\n",
       "        vertical-align: middle;\n",
       "    }\n",
       "\n",
       "    .dataframe tbody tr th {\n",
       "        vertical-align: top;\n",
       "    }\n",
       "\n",
       "    .dataframe thead th {\n",
       "        text-align: right;\n",
       "    }\n",
       "</style>\n",
       "<table border=\"1\" class=\"dataframe\">\n",
       "  <thead>\n",
       "    <tr style=\"text-align: right;\">\n",
       "      <th></th>\n",
       "      <th>HighBP</th>\n",
       "      <th>HighChol</th>\n",
       "      <th>CholCheck</th>\n",
       "      <th>BMI</th>\n",
       "      <th>Smoker</th>\n",
       "      <th>Stroke</th>\n",
       "      <th>HeartDiseaseorAttack</th>\n",
       "      <th>PhysActivity</th>\n",
       "      <th>Fruits</th>\n",
       "      <th>Veggies</th>\n",
       "      <th>HvyAlcoholConsump</th>\n",
       "      <th>AnyHealthcare</th>\n",
       "      <th>NoDocbcCost</th>\n",
       "      <th>GenHlth</th>\n",
       "      <th>MentHlth</th>\n",
       "      <th>PhysHlth</th>\n",
       "      <th>DiffWalk</th>\n",
       "      <th>Sex</th>\n",
       "      <th>Age</th>\n",
       "      <th>Education</th>\n",
       "      <th>Income</th>\n",
       "    </tr>\n",
       "  </thead>\n",
       "  <tbody>\n",
       "    <tr>\n",
       "      <th>219620</th>\n",
       "      <td>-0.865390</td>\n",
       "      <td>-0.857379</td>\n",
       "      <td>0.196705</td>\n",
       "      <td>-1.114860</td>\n",
       "      <td>-0.891572</td>\n",
       "      <td>-0.205655</td>\n",
       "      <td>-0.322556</td>\n",
       "      <td>-1.765388</td>\n",
       "      <td>0.759129</td>\n",
       "      <td>0.481542</td>\n",
       "      <td>-0.243971</td>\n",
       "      <td>0.226927</td>\n",
       "      <td>-0.303036</td>\n",
       "      <td>0.456986</td>\n",
       "      <td>-0.025950</td>\n",
       "      <td>0.315474</td>\n",
       "      <td>-0.449845</td>\n",
       "      <td>-0.887173</td>\n",
       "      <td>-0.338290</td>\n",
       "      <td>-1.064778</td>\n",
       "      <td>-1.955575</td>\n",
       "    </tr>\n",
       "    <tr>\n",
       "      <th>132821</th>\n",
       "      <td>1.155549</td>\n",
       "      <td>1.166346</td>\n",
       "      <td>0.196705</td>\n",
       "      <td>-0.056238</td>\n",
       "      <td>-0.891572</td>\n",
       "      <td>-0.205655</td>\n",
       "      <td>-0.322556</td>\n",
       "      <td>0.566448</td>\n",
       "      <td>0.759129</td>\n",
       "      <td>0.481542</td>\n",
       "      <td>-0.243971</td>\n",
       "      <td>0.226927</td>\n",
       "      <td>-0.303036</td>\n",
       "      <td>0.456986</td>\n",
       "      <td>-0.429902</td>\n",
       "      <td>-0.487197</td>\n",
       "      <td>-0.449845</td>\n",
       "      <td>-0.887173</td>\n",
       "      <td>1.626939</td>\n",
       "      <td>0.962174</td>\n",
       "      <td>-0.025387</td>\n",
       "    </tr>\n",
       "  </tbody>\n",
       "</table>\n",
       "</div>"
      ],
      "text/plain": [
       "          HighBP  HighChol  CholCheck       BMI    Smoker    Stroke  \\\n",
       "219620 -0.865390 -0.857379   0.196705 -1.114860 -0.891572 -0.205655   \n",
       "132821  1.155549  1.166346   0.196705 -0.056238 -0.891572 -0.205655   \n",
       "\n",
       "        HeartDiseaseorAttack  PhysActivity    Fruits   Veggies  \\\n",
       "219620             -0.322556     -1.765388  0.759129  0.481542   \n",
       "132821             -0.322556      0.566448  0.759129  0.481542   \n",
       "\n",
       "        HvyAlcoholConsump  AnyHealthcare  NoDocbcCost   GenHlth  MentHlth  \\\n",
       "219620          -0.243971       0.226927    -0.303036  0.456986 -0.025950   \n",
       "132821          -0.243971       0.226927    -0.303036  0.456986 -0.429902   \n",
       "\n",
       "        PhysHlth  DiffWalk       Sex       Age  Education    Income  \n",
       "219620  0.315474 -0.449845 -0.887173 -0.338290  -1.064778 -1.955575  \n",
       "132821 -0.487197 -0.449845 -0.887173  1.626939   0.962174 -0.025387  "
      ]
     },
     "execution_count": 9,
     "metadata": {},
     "output_type": "execute_result"
    }
   ],
   "source": [
    "X_test_scaled = scaler.transform(X_test)\n",
    "X_test_scaled = pd.DataFrame(X_test_scaled)\n",
    "X_test_scaled.columns = X_test.columns\n",
    "X_test_scaled.index = X_test.index\n",
    "X_test_scaled.head(2)"
   ]
  },
  {
   "cell_type": "markdown",
   "id": "5b0cfb04",
   "metadata": {},
   "source": [
    "# Modeling"
   ]
  },
  {
   "cell_type": "code",
   "execution_count": 10,
   "id": "3182e19e",
   "metadata": {
    "ExecuteTime": {
     "end_time": "2024-03-21T01:37:05.903787Z",
     "start_time": "2024-03-21T01:37:05.900487Z"
    }
   },
   "outputs": [],
   "source": [
    "results = pd.DataFrame(columns=['Model', 'Train Score', 'CV Score', 'Test Score', 'Params'])\n"
   ]
  },
  {
   "cell_type": "markdown",
   "id": "2a47aef5",
   "metadata": {},
   "source": [
    "## Logistic Rergession"
   ]
  },
  {
   "cell_type": "code",
   "execution_count": 12,
   "id": "8539b306",
   "metadata": {
    "ExecuteTime": {
     "end_time": "2024-03-21T01:37:30.224604Z",
     "start_time": "2024-03-21T01:37:23.453484Z"
    },
    "scrolled": true
   },
   "outputs": [],
   "source": [
    "model_name = 'Logistic Regression'\n",
    "model_idx = 0\n",
    "\n",
    "model = LogisticRegression(random_state=42, max_iter=500)\n",
    "\n",
    "param_grids = {'penalty': [None, 'l2'], \n",
    "               'C': [0.01, 0.1, 1, 10]}\n",
    "\n",
    "grid_search = GridSearchCV(model, param_grids, cv=5, scoring='f1_macro')\n",
    "grid_search.fit(X_train_scaled, y_train)\n",
    "\n",
    "# train_score = f1_score(y_train, grid_search.predict(X_train_scaled), average='macro')\n",
    "cv_score = grid_search.best_score_\n",
    "# test_score = f1_score(y_test, grid_search.predict(X_test_scaled), average='macro')\n",
    "\n",
    "# results.loc[model_idx] = [model_name, train_score, cv_score, test_score, grid_search.best_params_]\n",
    "model_lr = grid_search.best_estimator_"
   ]
  },
  {
   "cell_type": "code",
   "execution_count": 13,
   "id": "a9ea2a65",
   "metadata": {
    "ExecuteTime": {
     "end_time": "2024-03-21T01:37:30.251242Z",
     "start_time": "2024-03-21T01:37:30.243081Z"
    }
   },
   "outputs": [
    {
     "data": {
      "text/plain": [
       "array([-2.40633314])"
      ]
     },
     "execution_count": 13,
     "metadata": {},
     "output_type": "execute_result"
    }
   ],
   "source": [
    "model_lr.intercept_"
   ]
  },
  {
   "cell_type": "code",
   "execution_count": 14,
   "id": "fe08b243",
   "metadata": {
    "ExecuteTime": {
     "end_time": "2024-03-21T01:37:36.411718Z",
     "start_time": "2024-03-21T01:37:30.257166Z"
    }
   },
   "outputs": [
    {
     "name": "stdout",
     "output_type": "stream",
     "text": [
      "0.25\n"
     ]
    },
    {
     "data": {
      "text/html": [
       "<div>\n",
       "<style scoped>\n",
       "    .dataframe tbody tr th:only-of-type {\n",
       "        vertical-align: middle;\n",
       "    }\n",
       "\n",
       "    .dataframe tbody tr th {\n",
       "        vertical-align: top;\n",
       "    }\n",
       "\n",
       "    .dataframe thead th {\n",
       "        text-align: right;\n",
       "    }\n",
       "</style>\n",
       "<table border=\"1\" class=\"dataframe\">\n",
       "  <thead>\n",
       "    <tr style=\"text-align: right;\">\n",
       "      <th></th>\n",
       "      <th>Model</th>\n",
       "      <th>Train Score</th>\n",
       "      <th>CV Score</th>\n",
       "      <th>Test Score</th>\n",
       "      <th>Params</th>\n",
       "    </tr>\n",
       "  </thead>\n",
       "  <tbody>\n",
       "    <tr>\n",
       "      <th>0</th>\n",
       "      <td>Logistic Regression</td>\n",
       "      <td>0.67379</td>\n",
       "      <td>0.581483</td>\n",
       "      <td>0.672783</td>\n",
       "      <td>{'C': 0.01, 'penalty': None}</td>\n",
       "    </tr>\n",
       "  </tbody>\n",
       "</table>\n",
       "</div>"
      ],
      "text/plain": [
       "                 Model  Train Score  CV Score  Test Score  \\\n",
       "0  Logistic Regression      0.67379  0.581483    0.672783   \n",
       "\n",
       "                         Params  \n",
       "0  {'C': 0.01, 'penalty': None}  "
      ]
     },
     "execution_count": 14,
     "metadata": {},
     "output_type": "execute_result"
    }
   ],
   "source": [
    "# find the right threshold for cutting prediction\n",
    "y_pred = model_lr.predict_proba(X_train_scaled)[:, 1]\n",
    "list_f1score_lr = []\n",
    "for i in np.arange(0, 1, 0.01):\n",
    "    \n",
    "    list_f1score_lr.append(f1_score(y_train, y_pred>=i, average='macro'))\n",
    "\n",
    "ind_lr = np.argmax(list_f1score_lr)\n",
    "\n",
    "f1_thresh_lr = np.arange(0, 1, 0.01)[ind_lr]\n",
    "print(f1_thresh_lr)\n",
    "\n",
    "train_score = f1_score(y_train, model_lr.predict_proba(X_train_scaled)[:, 1]>f1_thresh_lr, average='macro')\n",
    "test_score = f1_score(y_test, model_lr.predict_proba(X_test_scaled)[:, 1]>f1_thresh_lr, average='macro')\n",
    "results.loc[model_idx] = [model_name, train_score, cv_score, test_score, grid_search.best_params_]\n",
    "results"
   ]
  },
  {
   "cell_type": "code",
   "execution_count": 37,
   "id": "43b680c8",
   "metadata": {
    "ExecuteTime": {
     "end_time": "2024-03-21T03:20:45.711192Z",
     "start_time": "2024-03-21T03:20:45.529431Z"
    }
   },
   "outputs": [
    {
     "data": {
      "image/png": "[encoded data removed]",
      "text/plain": [
       "<Figure size 800x600 with 1 Axes>"
      ]
     },
     "metadata": {},
     "output_type": "display_data"
    }
   ],
   "source": [
    "# Create DataFrame and sort\n",
    "feature_df = pd.DataFrame({'feature': model_lr.feature_names_in_, 'importance': model_lr.coef_[0]})\n",
    "feature_df = feature_df.sort_values(by='importance', ascending=False)  \n",
    "\n",
    "# Plot the feature importances\n",
    "plt.figure(figsize=(8, 6))  # Adjust figure size as needed \n",
    "plt.barh(feature_df['feature'], feature_df['importance'])\n",
    "plt.xlabel('Importance')\n",
    "plt.ylabel('Features')\n",
    "plt.title(f'Logistic Regression Feature Importances')\n",
    "plt.show()"
   ]
  },
  {
   "cell_type": "code",
   "execution_count": 38,
   "id": "912b4fed",
   "metadata": {
    "ExecuteTime": {
     "end_time": "2024-03-21T03:20:46.669670Z",
     "start_time": "2024-03-21T03:20:46.657269Z"
    }
   },
   "outputs": [
    {
     "data": {
      "text/html": [
       "<div>\n",
       "<style scoped>\n",
       "    .dataframe tbody tr th:only-of-type {\n",
       "        vertical-align: middle;\n",
       "    }\n",
       "\n",
       "    .dataframe tbody tr th {\n",
       "        vertical-align: top;\n",
       "    }\n",
       "\n",
       "    .dataframe thead th {\n",
       "        text-align: right;\n",
       "    }\n",
       "</style>\n",
       "<table border=\"1\" class=\"dataframe\">\n",
       "  <thead>\n",
       "    <tr style=\"text-align: right;\">\n",
       "      <th></th>\n",
       "      <th>feature</th>\n",
       "      <th>importance</th>\n",
       "    </tr>\n",
       "  </thead>\n",
       "  <tbody>\n",
       "    <tr>\n",
       "      <th>13</th>\n",
       "      <td>GenHlth</td>\n",
       "      <td>0.566442</td>\n",
       "    </tr>\n",
       "    <tr>\n",
       "      <th>3</th>\n",
       "      <td>BMI</td>\n",
       "      <td>0.402363</td>\n",
       "    </tr>\n",
       "    <tr>\n",
       "      <th>18</th>\n",
       "      <td>Age</td>\n",
       "      <td>0.376252</td>\n",
       "    </tr>\n",
       "    <tr>\n",
       "      <th>0</th>\n",
       "      <td>HighBP</td>\n",
       "      <td>0.370684</td>\n",
       "    </tr>\n",
       "    <tr>\n",
       "      <th>1</th>\n",
       "      <td>HighChol</td>\n",
       "      <td>0.277440</td>\n",
       "    </tr>\n",
       "    <tr>\n",
       "      <th>2</th>\n",
       "      <td>CholCheck</td>\n",
       "      <td>0.237602</td>\n",
       "    </tr>\n",
       "    <tr>\n",
       "      <th>17</th>\n",
       "      <td>Sex</td>\n",
       "      <td>0.128224</td>\n",
       "    </tr>\n",
       "    <tr>\n",
       "      <th>6</th>\n",
       "      <td>HeartDiseaseorAttack</td>\n",
       "      <td>0.068378</td>\n",
       "    </tr>\n",
       "    <tr>\n",
       "      <th>16</th>\n",
       "      <td>DiffWalk</td>\n",
       "      <td>0.053912</td>\n",
       "    </tr>\n",
       "    <tr>\n",
       "      <th>5</th>\n",
       "      <td>Stroke</td>\n",
       "      <td>0.028000</td>\n",
       "    </tr>\n",
       "    <tr>\n",
       "      <th>11</th>\n",
       "      <td>AnyHealthcare</td>\n",
       "      <td>0.013201</td>\n",
       "    </tr>\n",
       "    <tr>\n",
       "      <th>12</th>\n",
       "      <td>NoDocbcCost</td>\n",
       "      <td>0.005026</td>\n",
       "    </tr>\n",
       "    <tr>\n",
       "      <th>4</th>\n",
       "      <td>Smoker</td>\n",
       "      <td>-0.001794</td>\n",
       "    </tr>\n",
       "    <tr>\n",
       "      <th>9</th>\n",
       "      <td>Veggies</td>\n",
       "      <td>-0.014242</td>\n",
       "    </tr>\n",
       "    <tr>\n",
       "      <th>7</th>\n",
       "      <td>PhysActivity</td>\n",
       "      <td>-0.021144</td>\n",
       "    </tr>\n",
       "    <tr>\n",
       "      <th>8</th>\n",
       "      <td>Fruits</td>\n",
       "      <td>-0.021459</td>\n",
       "    </tr>\n",
       "    <tr>\n",
       "      <th>14</th>\n",
       "      <td>MentHlth</td>\n",
       "      <td>-0.026936</td>\n",
       "    </tr>\n",
       "    <tr>\n",
       "      <th>19</th>\n",
       "      <td>Education</td>\n",
       "      <td>-0.029187</td>\n",
       "    </tr>\n",
       "    <tr>\n",
       "      <th>15</th>\n",
       "      <td>PhysHlth</td>\n",
       "      <td>-0.065084</td>\n",
       "    </tr>\n",
       "    <tr>\n",
       "      <th>20</th>\n",
       "      <td>Income</td>\n",
       "      <td>-0.106441</td>\n",
       "    </tr>\n",
       "    <tr>\n",
       "      <th>10</th>\n",
       "      <td>HvyAlcoholConsump</td>\n",
       "      <td>-0.169417</td>\n",
       "    </tr>\n",
       "  </tbody>\n",
       "</table>\n",
       "</div>"
      ],
      "text/plain": [
       "                 feature  importance\n",
       "13               GenHlth    0.566442\n",
       "3                    BMI    0.402363\n",
       "18                   Age    0.376252\n",
       "0                 HighBP    0.370684\n",
       "1               HighChol    0.277440\n",
       "2              CholCheck    0.237602\n",
       "17                   Sex    0.128224\n",
       "6   HeartDiseaseorAttack    0.068378\n",
       "16              DiffWalk    0.053912\n",
       "5                 Stroke    0.028000\n",
       "11         AnyHealthcare    0.013201\n",
       "12           NoDocbcCost    0.005026\n",
       "4                 Smoker   -0.001794\n",
       "9                Veggies   -0.014242\n",
       "7           PhysActivity   -0.021144\n",
       "8                 Fruits   -0.021459\n",
       "14              MentHlth   -0.026936\n",
       "19             Education   -0.029187\n",
       "15              PhysHlth   -0.065084\n",
       "20                Income   -0.106441\n",
       "10     HvyAlcoholConsump   -0.169417"
      ]
     },
     "execution_count": 38,
     "metadata": {},
     "output_type": "execute_result"
    }
   ],
   "source": [
    "feature_df"
   ]
  },
  {
   "cell_type": "code",
   "execution_count": 39,
   "id": "b4458df0",
   "metadata": {
    "ExecuteTime": {
     "end_time": "2024-03-21T03:21:03.558730Z",
     "start_time": "2024-03-21T03:21:03.541638Z"
    }
   },
   "outputs": [
    {
     "data": {
      "text/html": [
       "<div>\n",
       "<style scoped>\n",
       "    .dataframe tbody tr th:only-of-type {\n",
       "        vertical-align: middle;\n",
       "    }\n",
       "\n",
       "    .dataframe tbody tr th {\n",
       "        vertical-align: top;\n",
       "    }\n",
       "\n",
       "    .dataframe thead th {\n",
       "        text-align: right;\n",
       "    }\n",
       "</style>\n",
       "<table border=\"1\" class=\"dataframe\">\n",
       "  <thead>\n",
       "    <tr style=\"text-align: right;\">\n",
       "      <th></th>\n",
       "      <th>feature</th>\n",
       "      <th>importance</th>\n",
       "      <th>importance_abs</th>\n",
       "    </tr>\n",
       "  </thead>\n",
       "  <tbody>\n",
       "    <tr>\n",
       "      <th>13</th>\n",
       "      <td>GenHlth</td>\n",
       "      <td>0.566442</td>\n",
       "      <td>0.566442</td>\n",
       "    </tr>\n",
       "    <tr>\n",
       "      <th>3</th>\n",
       "      <td>BMI</td>\n",
       "      <td>0.402363</td>\n",
       "      <td>0.402363</td>\n",
       "    </tr>\n",
       "    <tr>\n",
       "      <th>18</th>\n",
       "      <td>Age</td>\n",
       "      <td>0.376252</td>\n",
       "      <td>0.376252</td>\n",
       "    </tr>\n",
       "    <tr>\n",
       "      <th>0</th>\n",
       "      <td>HighBP</td>\n",
       "      <td>0.370684</td>\n",
       "      <td>0.370684</td>\n",
       "    </tr>\n",
       "    <tr>\n",
       "      <th>1</th>\n",
       "      <td>HighChol</td>\n",
       "      <td>0.277440</td>\n",
       "      <td>0.277440</td>\n",
       "    </tr>\n",
       "    <tr>\n",
       "      <th>2</th>\n",
       "      <td>CholCheck</td>\n",
       "      <td>0.237602</td>\n",
       "      <td>0.237602</td>\n",
       "    </tr>\n",
       "    <tr>\n",
       "      <th>10</th>\n",
       "      <td>HvyAlcoholConsump</td>\n",
       "      <td>-0.169417</td>\n",
       "      <td>0.169417</td>\n",
       "    </tr>\n",
       "    <tr>\n",
       "      <th>17</th>\n",
       "      <td>Sex</td>\n",
       "      <td>0.128224</td>\n",
       "      <td>0.128224</td>\n",
       "    </tr>\n",
       "    <tr>\n",
       "      <th>20</th>\n",
       "      <td>Income</td>\n",
       "      <td>-0.106441</td>\n",
       "      <td>0.106441</td>\n",
       "    </tr>\n",
       "    <tr>\n",
       "      <th>6</th>\n",
       "      <td>HeartDiseaseorAttack</td>\n",
       "      <td>0.068378</td>\n",
       "      <td>0.068378</td>\n",
       "    </tr>\n",
       "    <tr>\n",
       "      <th>15</th>\n",
       "      <td>PhysHlth</td>\n",
       "      <td>-0.065084</td>\n",
       "      <td>0.065084</td>\n",
       "    </tr>\n",
       "    <tr>\n",
       "      <th>16</th>\n",
       "      <td>DiffWalk</td>\n",
       "      <td>0.053912</td>\n",
       "      <td>0.053912</td>\n",
       "    </tr>\n",
       "    <tr>\n",
       "      <th>19</th>\n",
       "      <td>Education</td>\n",
       "      <td>-0.029187</td>\n",
       "      <td>0.029187</td>\n",
       "    </tr>\n",
       "    <tr>\n",
       "      <th>5</th>\n",
       "      <td>Stroke</td>\n",
       "      <td>0.028000</td>\n",
       "      <td>0.028000</td>\n",
       "    </tr>\n",
       "    <tr>\n",
       "      <th>14</th>\n",
       "      <td>MentHlth</td>\n",
       "      <td>-0.026936</td>\n",
       "      <td>0.026936</td>\n",
       "    </tr>\n",
       "    <tr>\n",
       "      <th>8</th>\n",
       "      <td>Fruits</td>\n",
       "      <td>-0.021459</td>\n",
       "      <td>0.021459</td>\n",
       "    </tr>\n",
       "    <tr>\n",
       "      <th>7</th>\n",
       "      <td>PhysActivity</td>\n",
       "      <td>-0.021144</td>\n",
       "      <td>0.021144</td>\n",
       "    </tr>\n",
       "    <tr>\n",
       "      <th>9</th>\n",
       "      <td>Veggies</td>\n",
       "      <td>-0.014242</td>\n",
       "      <td>0.014242</td>\n",
       "    </tr>\n",
       "    <tr>\n",
       "      <th>11</th>\n",
       "      <td>AnyHealthcare</td>\n",
       "      <td>0.013201</td>\n",
       "      <td>0.013201</td>\n",
       "    </tr>\n",
       "    <tr>\n",
       "      <th>12</th>\n",
       "      <td>NoDocbcCost</td>\n",
       "      <td>0.005026</td>\n",
       "      <td>0.005026</td>\n",
       "    </tr>\n",
       "    <tr>\n",
       "      <th>4</th>\n",
       "      <td>Smoker</td>\n",
       "      <td>-0.001794</td>\n",
       "      <td>0.001794</td>\n",
       "    </tr>\n",
       "  </tbody>\n",
       "</table>\n",
       "</div>"
      ],
      "text/plain": [
       "                 feature  importance  importance_abs\n",
       "13               GenHlth    0.566442        0.566442\n",
       "3                    BMI    0.402363        0.402363\n",
       "18                   Age    0.376252        0.376252\n",
       "0                 HighBP    0.370684        0.370684\n",
       "1               HighChol    0.277440        0.277440\n",
       "2              CholCheck    0.237602        0.237602\n",
       "10     HvyAlcoholConsump   -0.169417        0.169417\n",
       "17                   Sex    0.128224        0.128224\n",
       "20                Income   -0.106441        0.106441\n",
       "6   HeartDiseaseorAttack    0.068378        0.068378\n",
       "15              PhysHlth   -0.065084        0.065084\n",
       "16              DiffWalk    0.053912        0.053912\n",
       "19             Education   -0.029187        0.029187\n",
       "5                 Stroke    0.028000        0.028000\n",
       "14              MentHlth   -0.026936        0.026936\n",
       "8                 Fruits   -0.021459        0.021459\n",
       "7           PhysActivity   -0.021144        0.021144\n",
       "9                Veggies   -0.014242        0.014242\n",
       "11         AnyHealthcare    0.013201        0.013201\n",
       "12           NoDocbcCost    0.005026        0.005026\n",
       "4                 Smoker   -0.001794        0.001794"
      ]
     },
     "execution_count": 39,
     "metadata": {},
     "output_type": "execute_result"
    }
   ],
   "source": [
    "feature_df['importance_abs'] = abs(feature_df['importance'])\n",
    "feature_df.sort_values('importance_abs', ascending=False)"
   ]
  },
  {
   "cell_type": "markdown",
   "id": "9448ff0b",
   "metadata": {},
   "source": [
    "### SM"
   ]
  },
  {
   "cell_type": "code",
   "execution_count": 18,
   "id": "d6a56bb6",
   "metadata": {
    "ExecuteTime": {
     "end_time": "2024-03-21T01:37:43.874259Z",
     "start_time": "2024-03-21T01:37:42.626167Z"
    }
   },
   "outputs": [
    {
     "name": "stdout",
     "output_type": "stream",
     "text": [
      "Optimization terminated successfully.\n",
      "         Current function value: 0.320710\n",
      "         Iterations 8\n",
      "                           Logit Regression Results                           \n",
      "==============================================================================\n",
      "Dep. Variable:        Diabetes_binary   No. Observations:               202944\n",
      "Model:                          Logit   Df Residuals:                   202922\n",
      "Method:                           MLE   Df Model:                           21\n",
      "Date:                Wed, 20 Mar 2024   Pseudo R-squ.:                  0.2069\n",
      "Time:                        18:37:43   Log-Likelihood:                -65086.\n",
      "converged:                       True   LL-Null:                       -82070.\n",
      "Covariance Type:            nonrobust   LLR p-value:                     0.000\n",
      "========================================================================================\n",
      "                           coef    std err          z      P>|z|      [0.025      0.975]\n",
      "----------------------------------------------------------------------------------------\n",
      "const                   -2.4063      0.010   -242.618      0.000      -2.426      -2.387\n",
      "HighBP                   0.3707      0.008     45.544      0.000       0.355       0.387\n",
      "HighChol                 0.2774      0.007     37.068      0.000       0.263       0.292\n",
      "CholCheck                0.2376      0.015     16.385      0.000       0.209       0.266\n",
      "BMI                      0.4024      0.007     60.568      0.000       0.389       0.415\n",
      "Smoker                  -0.0018      0.007     -0.244      0.807      -0.016       0.013\n",
      "Stroke                   0.0280      0.006      5.070      0.000       0.017       0.039\n",
      "HeartDiseaseorAttack     0.0684      0.006     11.790      0.000       0.057       0.080\n",
      "PhysActivity            -0.0212      0.007     -3.057      0.002      -0.035      -0.008\n",
      "Fruits                  -0.0215      0.007     -2.914      0.004      -0.036      -0.007\n",
      "Veggies                 -0.0142      0.007     -2.050      0.040      -0.028      -0.001\n",
      "HvyAlcoholConsump       -0.1695      0.010    -17.329      0.000      -0.189      -0.150\n",
      "AnyHealthcare            0.0132      0.008      1.641      0.101      -0.003       0.029\n",
      "NoDocbcCost              0.0050      0.007      0.704      0.482      -0.009       0.019\n",
      "GenHlth                  0.5664      0.010     58.473      0.000       0.547       0.585\n",
      "MentHlth                -0.0269      0.007     -3.814      0.000      -0.041      -0.013\n",
      "PhysHlth                -0.0651      0.008     -8.532      0.000      -0.080      -0.050\n",
      "DiffWalk                 0.0539      0.007      7.611      0.000       0.040       0.068\n",
      "Sex                      0.1282      0.007     17.199      0.000       0.114       0.143\n",
      "Age                      0.3762      0.010     39.498      0.000       0.358       0.395\n",
      "Education               -0.0292      0.008     -3.804      0.000      -0.044      -0.014\n",
      "Income                  -0.1064      0.008    -12.899      0.000      -0.123      -0.090\n",
      "========================================================================================\n"
     ]
    }
   ],
   "source": [
    "import statsmodels.api as sm\n",
    "from sklearn.metrics import accuracy_score, confusion_matrix, classification_report\n",
    "\n",
    "logit_model = sm.Logit(y_train, sm.add_constant(X_train_scaled))\n",
    "result = logit_model.fit()\n",
    "print(result.summary())"
   ]
  },
  {
   "cell_type": "code",
   "execution_count": 19,
   "id": "c8f6a85e",
   "metadata": {
    "ExecuteTime": {
     "end_time": "2024-03-21T01:37:43.917924Z",
     "start_time": "2024-03-21T01:37:43.892248Z"
    }
   },
   "outputs": [],
   "source": [
    "y_pred = result.predict(sm.add_constant(X_test_scaled))\n"
   ]
  },
  {
   "cell_type": "code",
   "execution_count": 20,
   "id": "c3b5f985",
   "metadata": {
    "ExecuteTime": {
     "end_time": "2024-03-21T01:37:44.050497Z",
     "start_time": "2024-03-21T01:37:43.921562Z"
    }
   },
   "outputs": [
    {
     "name": "stdout",
     "output_type": "stream",
     "text": [
      "Accuracy: 0.865874329864396\n",
      "Confusion Matrix:\n",
      " [[42773   966]\n",
      " [ 5839  1158]]\n",
      "              precision    recall  f1-score   support\n",
      "\n",
      "         0.0       0.88      0.98      0.93     43739\n",
      "         1.0       0.55      0.17      0.25      6997\n",
      "\n",
      "    accuracy                           0.87     50736\n",
      "   macro avg       0.71      0.57      0.59     50736\n",
      "weighted avg       0.83      0.87      0.83     50736\n",
      "\n"
     ]
    }
   ],
   "source": [
    "print('Accuracy:', accuracy_score(y_test, y_pred>0.5))\n",
    "print('Confusion Matrix:\\n', confusion_matrix(y_test, y_pred>0.5))\n",
    "print(classification_report(y_test, y_pred>0.5))"
   ]
  },
  {
   "cell_type": "markdown",
   "id": "58374ad5",
   "metadata": {},
   "source": [
    "## Decision Tree"
   ]
  },
  {
   "cell_type": "code",
   "execution_count": 21,
   "id": "c14d641e",
   "metadata": {
    "ExecuteTime": {
     "end_time": "2024-03-21T01:39:57.933227Z",
     "start_time": "2024-03-21T01:37:48.251568Z"
    }
   },
   "outputs": [],
   "source": [
    "model_name = 'Decision Tree'\n",
    "model_idx = 1\n",
    "\n",
    "model = DecisionTreeClassifier(random_state=42)\n",
    "\n",
    "param_grids = {'max_depth': [3, 5,\n",
    "                             7, 9, 11],\n",
    "               'min_samples_leaf': [1, 2, 4],\n",
    "               'min_samples_split': [2, 5, 10],\n",
    "               'criterion': ['gini', 'entropy']}\n",
    "\n",
    "grid_search = GridSearchCV(model, param_grids, cv=5, scoring='f1_macro')\n",
    "grid_search.fit(X_train_scaled, y_train)\n",
    "\n",
    "# train_score = f1_score(y_train, grid_search.predict(X_train_scaled), average='macro')\n",
    "cv_score = grid_search.best_score_\n",
    "# test_score = f1_score(y_test, grid_search.predict(X_test_scaled), average='macro')\n",
    "\n",
    "# results.loc[model_idx] = [model_name, train_score, cv_score, test_score, grid_search.best_params_]\n",
    "model_dt = grid_search.best_estimator_"
   ]
  },
  {
   "cell_type": "code",
   "execution_count": 23,
   "id": "f7702558",
   "metadata": {
    "ExecuteTime": {
     "end_time": "2024-03-21T01:40:04.276223Z",
     "start_time": "2024-03-21T01:39:57.941291Z"
    }
   },
   "outputs": [
    {
     "name": "stdout",
     "output_type": "stream",
     "text": [
      "0.29\n"
     ]
    },
    {
     "data": {
      "text/html": [
       "<div>\n",
       "<style scoped>\n",
       "    .dataframe tbody tr th:only-of-type {\n",
       "        vertical-align: middle;\n",
       "    }\n",
       "\n",
       "    .dataframe tbody tr th {\n",
       "        vertical-align: top;\n",
       "    }\n",
       "\n",
       "    .dataframe thead th {\n",
       "        text-align: right;\n",
       "    }\n",
       "</style>\n",
       "<table border=\"1\" class=\"dataframe\">\n",
       "  <thead>\n",
       "    <tr style=\"text-align: right;\">\n",
       "      <th></th>\n",
       "      <th>Model</th>\n",
       "      <th>Train Score</th>\n",
       "      <th>CV Score</th>\n",
       "      <th>Test Score</th>\n",
       "      <th>Params</th>\n",
       "    </tr>\n",
       "  </thead>\n",
       "  <tbody>\n",
       "    <tr>\n",
       "      <th>0</th>\n",
       "      <td>Logistic Regression</td>\n",
       "      <td>0.673790</td>\n",
       "      <td>0.581483</td>\n",
       "      <td>0.672783</td>\n",
       "      <td>{'C': 0.01, 'penalty': None}</td>\n",
       "    </tr>\n",
       "    <tr>\n",
       "      <th>1</th>\n",
       "      <td>Decision Tree</td>\n",
       "      <td>0.699446</td>\n",
       "      <td>0.585387</td>\n",
       "      <td>0.670852</td>\n",
       "      <td>{'criterion': 'gini', 'max_depth': 11, 'min_sa...</td>\n",
       "    </tr>\n",
       "  </tbody>\n",
       "</table>\n",
       "</div>"
      ],
      "text/plain": [
       "                 Model  Train Score  CV Score  Test Score  \\\n",
       "0  Logistic Regression     0.673790  0.581483    0.672783   \n",
       "1        Decision Tree     0.699446  0.585387    0.670852   \n",
       "\n",
       "                                              Params  \n",
       "0                       {'C': 0.01, 'penalty': None}  \n",
       "1  {'criterion': 'gini', 'max_depth': 11, 'min_sa...  "
      ]
     },
     "execution_count": 23,
     "metadata": {},
     "output_type": "execute_result"
    }
   ],
   "source": [
    "model_name = 'Decision Tree'\n",
    "model_idx = 1\n",
    "\n",
    "# find the right threshold for cutting prediction\n",
    "y_pred = model_dt.predict_proba(X_train_scaled)[:, 1]\n",
    "list_f1score_dt = []\n",
    "for i in np.arange(0, 1, 0.01):\n",
    "    \n",
    "    list_f1score_dt.append(f1_score(y_train, y_pred>=i, average='macro'))\n",
    "\n",
    "ind_dt = np.argmax(list_f1score_dt)\n",
    "\n",
    "f1_thresh_dt = np.arange(0, 1, 0.01)[ind_dt]\n",
    "print(f1_thresh_dt)\n",
    "\n",
    "train_score = f1_score(y_train, model_dt.predict_proba(X_train_scaled)[:, 1]>f1_thresh_dt, average='macro')\n",
    "test_score = f1_score(y_test, model_dt.predict_proba(X_test_scaled)[:, 1]>f1_thresh_dt, average='macro')\n",
    "results.loc[model_idx] = [model_name, train_score, cv_score, test_score, grid_search.best_params_]\n",
    "results"
   ]
  },
  {
   "cell_type": "code",
   "execution_count": 24,
   "id": "78b0e9f2",
   "metadata": {
    "ExecuteTime": {
     "end_time": "2024-03-21T01:40:04.442063Z",
     "start_time": "2024-03-21T01:40:04.278321Z"
    }
   },
   "outputs": [
    {
     "data": {
      "image/png": "[encoded data removed]",
      "text/plain": [
       "<Figure size 800x600 with 1 Axes>"
      ]
     },
     "metadata": {},
     "output_type": "display_data"
    }
   ],
   "source": [
    "# Extract feature importances\n",
    "importances = model_dt.feature_importances_\n",
    "\n",
    "# Create DataFrame and sort\n",
    "feature_df = pd.DataFrame({'feature': X_train_scaled.columns, 'importance': importances})\n",
    "feature_df = feature_df.sort_values(by='importance', ascending=False)  \n",
    "\n",
    "# Plot the feature importances\n",
    "plt.figure(figsize=(8, 6))  # Adjust figure size as needed \n",
    "plt.barh(feature_df['feature'], feature_df['importance'])\n",
    "plt.xlabel('Importance')\n",
    "plt.ylabel('Features')\n",
    "plt.title(f'Decision Tree Feature Importances')\n",
    "plt.show()"
   ]
  },
  {
   "cell_type": "code",
   "execution_count": 25,
   "id": "aefee2e4",
   "metadata": {
    "ExecuteTime": {
     "end_time": "2024-03-21T01:40:04.448949Z",
     "start_time": "2024-03-21T01:40:04.443928Z"
    }
   },
   "outputs": [
    {
     "data": {
      "text/html": [
       "<div>\n",
       "<style scoped>\n",
       "    .dataframe tbody tr th:only-of-type {\n",
       "        vertical-align: middle;\n",
       "    }\n",
       "\n",
       "    .dataframe tbody tr th {\n",
       "        vertical-align: top;\n",
       "    }\n",
       "\n",
       "    .dataframe thead th {\n",
       "        text-align: right;\n",
       "    }\n",
       "</style>\n",
       "<table border=\"1\" class=\"dataframe\">\n",
       "  <thead>\n",
       "    <tr style=\"text-align: right;\">\n",
       "      <th></th>\n",
       "      <th>feature</th>\n",
       "      <th>importance</th>\n",
       "    </tr>\n",
       "  </thead>\n",
       "  <tbody>\n",
       "    <tr>\n",
       "      <th>0</th>\n",
       "      <td>HighBP</td>\n",
       "      <td>0.298952</td>\n",
       "    </tr>\n",
       "    <tr>\n",
       "      <th>13</th>\n",
       "      <td>GenHlth</td>\n",
       "      <td>0.253291</td>\n",
       "    </tr>\n",
       "    <tr>\n",
       "      <th>3</th>\n",
       "      <td>BMI</td>\n",
       "      <td>0.149555</td>\n",
       "    </tr>\n",
       "    <tr>\n",
       "      <th>18</th>\n",
       "      <td>Age</td>\n",
       "      <td>0.083001</td>\n",
       "    </tr>\n",
       "    <tr>\n",
       "      <th>1</th>\n",
       "      <td>HighChol</td>\n",
       "      <td>0.047690</td>\n",
       "    </tr>\n",
       "    <tr>\n",
       "      <th>20</th>\n",
       "      <td>Income</td>\n",
       "      <td>0.025387</td>\n",
       "    </tr>\n",
       "    <tr>\n",
       "      <th>15</th>\n",
       "      <td>PhysHlth</td>\n",
       "      <td>0.022906</td>\n",
       "    </tr>\n",
       "    <tr>\n",
       "      <th>14</th>\n",
       "      <td>MentHlth</td>\n",
       "      <td>0.018947</td>\n",
       "    </tr>\n",
       "    <tr>\n",
       "      <th>6</th>\n",
       "      <td>HeartDiseaseorAttack</td>\n",
       "      <td>0.017918</td>\n",
       "    </tr>\n",
       "    <tr>\n",
       "      <th>19</th>\n",
       "      <td>Education</td>\n",
       "      <td>0.017062</td>\n",
       "    </tr>\n",
       "    <tr>\n",
       "      <th>16</th>\n",
       "      <td>DiffWalk</td>\n",
       "      <td>0.009875</td>\n",
       "    </tr>\n",
       "    <tr>\n",
       "      <th>17</th>\n",
       "      <td>Sex</td>\n",
       "      <td>0.009735</td>\n",
       "    </tr>\n",
       "    <tr>\n",
       "      <th>10</th>\n",
       "      <td>HvyAlcoholConsump</td>\n",
       "      <td>0.008106</td>\n",
       "    </tr>\n",
       "    <tr>\n",
       "      <th>4</th>\n",
       "      <td>Smoker</td>\n",
       "      <td>0.006511</td>\n",
       "    </tr>\n",
       "    <tr>\n",
       "      <th>5</th>\n",
       "      <td>Stroke</td>\n",
       "      <td>0.006229</td>\n",
       "    </tr>\n",
       "    <tr>\n",
       "      <th>7</th>\n",
       "      <td>PhysActivity</td>\n",
       "      <td>0.006070</td>\n",
       "    </tr>\n",
       "    <tr>\n",
       "      <th>12</th>\n",
       "      <td>NoDocbcCost</td>\n",
       "      <td>0.005735</td>\n",
       "    </tr>\n",
       "    <tr>\n",
       "      <th>8</th>\n",
       "      <td>Fruits</td>\n",
       "      <td>0.004168</td>\n",
       "    </tr>\n",
       "    <tr>\n",
       "      <th>9</th>\n",
       "      <td>Veggies</td>\n",
       "      <td>0.003912</td>\n",
       "    </tr>\n",
       "    <tr>\n",
       "      <th>11</th>\n",
       "      <td>AnyHealthcare</td>\n",
       "      <td>0.002499</td>\n",
       "    </tr>\n",
       "    <tr>\n",
       "      <th>2</th>\n",
       "      <td>CholCheck</td>\n",
       "      <td>0.002454</td>\n",
       "    </tr>\n",
       "  </tbody>\n",
       "</table>\n",
       "</div>"
      ],
      "text/plain": [
       "                 feature  importance\n",
       "0                 HighBP    0.298952\n",
       "13               GenHlth    0.253291\n",
       "3                    BMI    0.149555\n",
       "18                   Age    0.083001\n",
       "1               HighChol    0.047690\n",
       "20                Income    0.025387\n",
       "15              PhysHlth    0.022906\n",
       "14              MentHlth    0.018947\n",
       "6   HeartDiseaseorAttack    0.017918\n",
       "19             Education    0.017062\n",
       "16              DiffWalk    0.009875\n",
       "17                   Sex    0.009735\n",
       "10     HvyAlcoholConsump    0.008106\n",
       "4                 Smoker    0.006511\n",
       "5                 Stroke    0.006229\n",
       "7           PhysActivity    0.006070\n",
       "12           NoDocbcCost    0.005735\n",
       "8                 Fruits    0.004168\n",
       "9                Veggies    0.003912\n",
       "11         AnyHealthcare    0.002499\n",
       "2              CholCheck    0.002454"
      ]
     },
     "execution_count": 25,
     "metadata": {},
     "output_type": "execute_result"
    }
   ],
   "source": [
    "feature_df"
   ]
  },
  {
   "cell_type": "markdown",
   "id": "866ee2fa",
   "metadata": {},
   "source": [
    "## Random Forest"
   ]
  },
  {
   "cell_type": "code",
   "execution_count": 26,
   "id": "59237e47",
   "metadata": {
    "ExecuteTime": {
     "end_time": "2024-03-21T02:15:25.972326Z",
     "start_time": "2024-03-21T01:40:04.449989Z"
    }
   },
   "outputs": [],
   "source": [
    "model_name = 'Random Forest'\n",
    "model_idx = 2\n",
    "\n",
    "model = RandomForestClassifier(random_state=42, n_jobs=-1)\n",
    "\n",
    "param_grids = {'n_estimators': [50, 100, 200,\n",
    "                                300, 500],\n",
    "                'min_samples_leaf': [1, 2, 4],\n",
    "                 'min_samples_split': [2, 5, 10],\n",
    "               'max_depth': [3, 5, 7, 9, 11]}\n",
    "\n",
    "grid_search = GridSearchCV(model, param_grids, cv=5, scoring='f1_macro')\n",
    "grid_search.fit(X_train_scaled, y_train)\n",
    "\n",
    "# train_score = f1_score(y_train, grid_search.predict(X_train_scaled), average='macro')\n",
    "cv_score = grid_search.best_score_\n",
    "# test_score = f1_score(y_test, grid_search.predict(X_test_scaled), average='macro')\n",
    "\n",
    "# results.loc[model_idx] = [model_name, train_score, cv_score, test_score, grid_search.best_params_]\n",
    "model_rf = grid_search.best_estimator_"
   ]
  },
  {
   "cell_type": "code",
   "execution_count": 27,
   "id": "484d8c8d",
   "metadata": {
    "ExecuteTime": {
     "end_time": "2024-03-21T02:15:32.707107Z",
     "start_time": "2024-03-21T02:15:25.973499Z"
    }
   },
   "outputs": [
    {
     "name": "stdout",
     "output_type": "stream",
     "text": [
      "0.28\n"
     ]
    },
    {
     "data": {
      "text/html": [
       "<div>\n",
       "<style scoped>\n",
       "    .dataframe tbody tr th:only-of-type {\n",
       "        vertical-align: middle;\n",
       "    }\n",
       "\n",
       "    .dataframe tbody tr th {\n",
       "        vertical-align: top;\n",
       "    }\n",
       "\n",
       "    .dataframe thead th {\n",
       "        text-align: right;\n",
       "    }\n",
       "</style>\n",
       "<table border=\"1\" class=\"dataframe\">\n",
       "  <thead>\n",
       "    <tr style=\"text-align: right;\">\n",
       "      <th></th>\n",
       "      <th>Model</th>\n",
       "      <th>Train Score</th>\n",
       "      <th>CV Score</th>\n",
       "      <th>Test Score</th>\n",
       "      <th>Params</th>\n",
       "    </tr>\n",
       "  </thead>\n",
       "  <tbody>\n",
       "    <tr>\n",
       "      <th>0</th>\n",
       "      <td>Logistic Regression</td>\n",
       "      <td>0.673790</td>\n",
       "      <td>0.581483</td>\n",
       "      <td>0.672783</td>\n",
       "      <td>{'C': 0.01, 'penalty': None}</td>\n",
       "    </tr>\n",
       "    <tr>\n",
       "      <th>1</th>\n",
       "      <td>Decision Tree</td>\n",
       "      <td>0.699446</td>\n",
       "      <td>0.585387</td>\n",
       "      <td>0.670852</td>\n",
       "      <td>{'criterion': 'gini', 'max_depth': 11, 'min_sa...</td>\n",
       "    </tr>\n",
       "    <tr>\n",
       "      <th>2</th>\n",
       "      <td>Random Forest</td>\n",
       "      <td>0.705735</td>\n",
       "      <td>0.550218</td>\n",
       "      <td>0.680809</td>\n",
       "      <td>{'max_depth': 11, 'min_samples_leaf': 1, 'min_...</td>\n",
       "    </tr>\n",
       "  </tbody>\n",
       "</table>\n",
       "</div>"
      ],
      "text/plain": [
       "                 Model  Train Score  CV Score  Test Score  \\\n",
       "0  Logistic Regression     0.673790  0.581483    0.672783   \n",
       "1        Decision Tree     0.699446  0.585387    0.670852   \n",
       "2        Random Forest     0.705735  0.550218    0.680809   \n",
       "\n",
       "                                              Params  \n",
       "0                       {'C': 0.01, 'penalty': None}  \n",
       "1  {'criterion': 'gini', 'max_depth': 11, 'min_sa...  \n",
       "2  {'max_depth': 11, 'min_samples_leaf': 1, 'min_...  "
      ]
     },
     "execution_count": 27,
     "metadata": {},
     "output_type": "execute_result"
    }
   ],
   "source": [
    "model_name = 'Random Forest'\n",
    "model_idx = 2\n",
    "\n",
    "# find the right threshold for cutting prediction\n",
    "y_pred = model_rf.predict_proba(X_train_scaled)[:, 1]\n",
    "list_f1score_rf = []\n",
    "for i in np.arange(0, 1, 0.01):\n",
    "    \n",
    "    list_f1score_rf.append(f1_score(y_train, y_pred>=i, average='macro'))\n",
    "\n",
    "ind_rf = np.argmax(list_f1score_rf)\n",
    "\n",
    "f1_thresh_rf = np.arange(0, 1, 0.01)[ind_rf]\n",
    "print(f1_thresh_rf)\n",
    "\n",
    "train_score = f1_score(y_train, model_rf.predict_proba(X_train_scaled)[:, 1]>f1_thresh_rf, average='macro')\n",
    "test_score = f1_score(y_test, model_rf.predict_proba(X_test_scaled)[:, 1]>f1_thresh_rf, average='macro')\n",
    "results.loc[model_idx] = [model_name, train_score, cv_score, test_score, grid_search.best_params_]\n",
    "results"
   ]
  },
  {
   "cell_type": "code",
   "execution_count": 28,
   "id": "d1837a92",
   "metadata": {
    "ExecuteTime": {
     "end_time": "2024-03-21T02:15:32.914478Z",
     "start_time": "2024-03-21T02:15:32.708221Z"
    }
   },
   "outputs": [
    {
     "data": {
      "image/png": "[encoded data removed]",
      "text/plain": [
       "<Figure size 800x600 with 1 Axes>"
      ]
     },
     "metadata": {},
     "output_type": "display_data"
    }
   ],
   "source": [
    "# Extract feature importances\n",
    "importances = model_rf.feature_importances_\n",
    "\n",
    "# Create DataFrame and sort\n",
    "feature_df = pd.DataFrame({'feature': X_train_scaled.columns, 'importance': importances})\n",
    "feature_df = feature_df.sort_values(by='importance', ascending=False)  \n",
    "\n",
    "# Plot the feature importances\n",
    "plt.figure(figsize=(8, 6))  # Adjust figure size as needed \n",
    "plt.barh(feature_df['feature'], feature_df['importance'])\n",
    "plt.xlabel('Importance')\n",
    "plt.ylabel('Features')\n",
    "plt.title(f'Random Forest Feature Importances')\n",
    "plt.show()"
   ]
  },
  {
   "cell_type": "code",
   "execution_count": 29,
   "id": "13a4cf10",
   "metadata": {
    "ExecuteTime": {
     "end_time": "2024-03-21T02:15:33.027911Z",
     "start_time": "2024-03-21T02:15:32.954110Z"
    }
   },
   "outputs": [
    {
     "data": {
      "text/html": [
       "<div>\n",
       "<style scoped>\n",
       "    .dataframe tbody tr th:only-of-type {\n",
       "        vertical-align: middle;\n",
       "    }\n",
       "\n",
       "    .dataframe tbody tr th {\n",
       "        vertical-align: top;\n",
       "    }\n",
       "\n",
       "    .dataframe thead th {\n",
       "        text-align: right;\n",
       "    }\n",
       "</style>\n",
       "<table border=\"1\" class=\"dataframe\">\n",
       "  <thead>\n",
       "    <tr style=\"text-align: right;\">\n",
       "      <th></th>\n",
       "      <th>feature</th>\n",
       "      <th>importance</th>\n",
       "    </tr>\n",
       "  </thead>\n",
       "  <tbody>\n",
       "    <tr>\n",
       "      <th>13</th>\n",
       "      <td>GenHlth</td>\n",
       "      <td>0.193859</td>\n",
       "    </tr>\n",
       "    <tr>\n",
       "      <th>0</th>\n",
       "      <td>HighBP</td>\n",
       "      <td>0.177841</td>\n",
       "    </tr>\n",
       "    <tr>\n",
       "      <th>3</th>\n",
       "      <td>BMI</td>\n",
       "      <td>0.167229</td>\n",
       "    </tr>\n",
       "    <tr>\n",
       "      <th>1</th>\n",
       "      <td>HighChol</td>\n",
       "      <td>0.085063</td>\n",
       "    </tr>\n",
       "    <tr>\n",
       "      <th>18</th>\n",
       "      <td>Age</td>\n",
       "      <td>0.076488</td>\n",
       "    </tr>\n",
       "    <tr>\n",
       "      <th>16</th>\n",
       "      <td>DiffWalk</td>\n",
       "      <td>0.067073</td>\n",
       "    </tr>\n",
       "    <tr>\n",
       "      <th>6</th>\n",
       "      <td>HeartDiseaseorAttack</td>\n",
       "      <td>0.040975</td>\n",
       "    </tr>\n",
       "    <tr>\n",
       "      <th>15</th>\n",
       "      <td>PhysHlth</td>\n",
       "      <td>0.040957</td>\n",
       "    </tr>\n",
       "    <tr>\n",
       "      <th>20</th>\n",
       "      <td>Income</td>\n",
       "      <td>0.037781</td>\n",
       "    </tr>\n",
       "    <tr>\n",
       "      <th>19</th>\n",
       "      <td>Education</td>\n",
       "      <td>0.019259</td>\n",
       "    </tr>\n",
       "    <tr>\n",
       "      <th>14</th>\n",
       "      <td>MentHlth</td>\n",
       "      <td>0.018489</td>\n",
       "    </tr>\n",
       "    <tr>\n",
       "      <th>7</th>\n",
       "      <td>PhysActivity</td>\n",
       "      <td>0.011925</td>\n",
       "    </tr>\n",
       "    <tr>\n",
       "      <th>5</th>\n",
       "      <td>Stroke</td>\n",
       "      <td>0.010718</td>\n",
       "    </tr>\n",
       "    <tr>\n",
       "      <th>10</th>\n",
       "      <td>HvyAlcoholConsump</td>\n",
       "      <td>0.009470</td>\n",
       "    </tr>\n",
       "    <tr>\n",
       "      <th>17</th>\n",
       "      <td>Sex</td>\n",
       "      <td>0.009404</td>\n",
       "    </tr>\n",
       "    <tr>\n",
       "      <th>4</th>\n",
       "      <td>Smoker</td>\n",
       "      <td>0.006383</td>\n",
       "    </tr>\n",
       "    <tr>\n",
       "      <th>9</th>\n",
       "      <td>Veggies</td>\n",
       "      <td>0.006008</td>\n",
       "    </tr>\n",
       "    <tr>\n",
       "      <th>2</th>\n",
       "      <td>CholCheck</td>\n",
       "      <td>0.005924</td>\n",
       "    </tr>\n",
       "    <tr>\n",
       "      <th>8</th>\n",
       "      <td>Fruits</td>\n",
       "      <td>0.005445</td>\n",
       "    </tr>\n",
       "    <tr>\n",
       "      <th>12</th>\n",
       "      <td>NoDocbcCost</td>\n",
       "      <td>0.005349</td>\n",
       "    </tr>\n",
       "    <tr>\n",
       "      <th>11</th>\n",
       "      <td>AnyHealthcare</td>\n",
       "      <td>0.004365</td>\n",
       "    </tr>\n",
       "  </tbody>\n",
       "</table>\n",
       "</div>"
      ],
      "text/plain": [
       "                 feature  importance\n",
       "13               GenHlth    0.193859\n",
       "0                 HighBP    0.177841\n",
       "3                    BMI    0.167229\n",
       "1               HighChol    0.085063\n",
       "18                   Age    0.076488\n",
       "16              DiffWalk    0.067073\n",
       "6   HeartDiseaseorAttack    0.040975\n",
       "15              PhysHlth    0.040957\n",
       "20                Income    0.037781\n",
       "19             Education    0.019259\n",
       "14              MentHlth    0.018489\n",
       "7           PhysActivity    0.011925\n",
       "5                 Stroke    0.010718\n",
       "10     HvyAlcoholConsump    0.009470\n",
       "17                   Sex    0.009404\n",
       "4                 Smoker    0.006383\n",
       "9                Veggies    0.006008\n",
       "2              CholCheck    0.005924\n",
       "8                 Fruits    0.005445\n",
       "12           NoDocbcCost    0.005349\n",
       "11         AnyHealthcare    0.004365"
      ]
     },
     "execution_count": 29,
     "metadata": {},
     "output_type": "execute_result"
    }
   ],
   "source": [
    "feature_df"
   ]
  },
  {
   "cell_type": "markdown",
   "id": "bf466818",
   "metadata": {},
   "source": [
    "\n",
    "## All models performance"
   ]
  },
  {
   "cell_type": "code",
   "execution_count": 30,
   "id": "d935ea66",
   "metadata": {
    "ExecuteTime": {
     "end_time": "2024-03-21T02:15:33.115357Z",
     "start_time": "2024-03-21T02:15:33.030334Z"
    }
   },
   "outputs": [
    {
     "data": {
      "image/png": "[encoded data removed]",
      "text/plain": [
       "<Figure size 640x480 with 1 Axes>"
      ]
     },
     "metadata": {},
     "output_type": "display_data"
    }
   ],
   "source": [
    "results = results.sort_values('Test Score', ascending=False)\n",
    "# Model Performance Comparison (F1-Score)\n",
    "plt.bar(results['Model'], results['Test Score'])\n",
    "plt.xlabel('Models')\n",
    "plt.ylabel('F1-Score')\n",
    "plt.title('Model Performance Comparison (Testing Dataset)')\n",
    "plt.show()"
   ]
  },
  {
   "cell_type": "code",
   "execution_count": 34,
   "id": "cfdd1245",
   "metadata": {
    "ExecuteTime": {
     "end_time": "2024-03-21T02:17:44.792529Z",
     "start_time": "2024-03-21T02:17:44.776078Z"
    }
   },
   "outputs": [
    {
     "data": {
      "text/html": [
       "<div>\n",
       "<style scoped>\n",
       "    .dataframe tbody tr th:only-of-type {\n",
       "        vertical-align: middle;\n",
       "    }\n",
       "\n",
       "    .dataframe tbody tr th {\n",
       "        vertical-align: top;\n",
       "    }\n",
       "\n",
       "    .dataframe thead th {\n",
       "        text-align: right;\n",
       "    }\n",
       "</style>\n",
       "<table border=\"1\" class=\"dataframe\">\n",
       "  <thead>\n",
       "    <tr style=\"text-align: right;\">\n",
       "      <th></th>\n",
       "      <th>Model</th>\n",
       "      <th>Train Score</th>\n",
       "      <th>Test Score</th>\n",
       "      <th>Params</th>\n",
       "    </tr>\n",
       "  </thead>\n",
       "  <tbody>\n",
       "    <tr>\n",
       "      <th>2</th>\n",
       "      <td>Random Forest</td>\n",
       "      <td>0.705735</td>\n",
       "      <td>0.680809</td>\n",
       "      <td>{'max_depth': 11, 'min_samples_leaf': 1, 'min_samples_split': 5, 'n_estimators': 100}</td>\n",
       "    </tr>\n",
       "    <tr>\n",
       "      <th>0</th>\n",
       "      <td>Logistic Regression</td>\n",
       "      <td>0.673790</td>\n",
       "      <td>0.672783</td>\n",
       "      <td>{'C': 0.01, 'penalty': None}</td>\n",
       "    </tr>\n",
       "    <tr>\n",
       "      <th>1</th>\n",
       "      <td>Decision Tree</td>\n",
       "      <td>0.699446</td>\n",
       "      <td>0.670852</td>\n",
       "      <td>{'criterion': 'gini', 'max_depth': 11, 'min_samples_leaf': 2, 'min_samples_split': 10}</td>\n",
       "    </tr>\n",
       "  </tbody>\n",
       "</table>\n",
       "</div>"
      ],
      "text/plain": [
       "                 Model  Train Score  Test Score  \\\n",
       "2        Random Forest     0.705735    0.680809   \n",
       "0  Logistic Regression     0.673790    0.672783   \n",
       "1        Decision Tree     0.699446    0.670852   \n",
       "\n",
       "                                                                                   Params  \n",
       "2   {'max_depth': 11, 'min_samples_leaf': 1, 'min_samples_split': 5, 'n_estimators': 100}  \n",
       "0                                                            {'C': 0.01, 'penalty': None}  \n",
       "1  {'criterion': 'gini', 'max_depth': 11, 'min_samples_leaf': 2, 'min_samples_split': 10}  "
      ]
     },
     "execution_count": 34,
     "metadata": {},
     "output_type": "execute_result"
    }
   ],
   "source": [
    "results.drop(columns='CV Score')\n",
    "\n",
    "# CV Score is auto with 0.5 threshold"
   ]
  },
  {
   "cell_type": "markdown",
   "id": "42c8f19e",
   "metadata": {},
   "source": [
    "My models have performance of F1-Scores higher than this notebook in the Kaggle.\n",
    "https://www.kaggle.com/code/ohoodalsohaime/diabetes-indicators-classfication-project-part1"
   ]
  },
  {
   "cell_type": "code",
   "execution_count": null,
   "id": "f0a361b3",
   "metadata": {},
   "outputs": [],
   "source": []
  },
  {
   "cell_type": "code",
   "execution_count": null,
   "id": "8cbbd050",
   "metadata": {},
   "outputs": [],
   "source": []
  }
 ],
 "metadata": {
  "kernelspec": {
   "display_name": "Python 3 (ipykernel)",
   "language": "python",
   "name": "python3"
  },
  "language_info": {
   "codemirror_mode": {
    "name": "ipython",
    "version": 3
   },
   "file_extension": ".py",
   "mimetype": "text/x-python",
   "name": "python",
   "nbconvert_exporter": "python",
   "pygments_lexer": "ipython3",
   "version": "3.9.6"
  },
  "toc": {
   "base_numbering": 1,
   "nav_menu": {},
   "number_sections": true,
   "sideBar": true,
   "skip_h1_title": false,
   "title_cell": "Table of Contents",
   "title_sidebar": "Contents",
   "toc_cell": false,
   "toc_position": {
    "height": "calc(100% - 180px)",
    "left": "10px",
    "top": "150px",
    "width": "202.145px"
   },
   "toc_section_display": true,
   "toc_window_display": true
  }
 },
 "nbformat": 4,
 "nbformat_minor": 5
}
