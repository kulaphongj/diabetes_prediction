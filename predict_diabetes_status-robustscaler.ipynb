{
 "cells": [
  {
   "cell_type": "code",
   "execution_count": 2,
   "id": "2f954ae6",
   "metadata": {
    "ExecuteTime": {
     "end_time": "2024-03-23T20:33:39.830906Z",
     "start_time": "2024-03-23T20:33:39.824178Z"
    }
   },
   "outputs": [],
   "source": [
    "import pandas as pd\n",
    "pd.set_option('display.max_columns', 100)\n",
    "pd.set_option('display.max_colwidth', 100)\n",
    "import numpy as np\n",
    "\n",
    "import matplotlib.pyplot as plt\n",
    "import seaborn as sns\n",
    "\n",
    "import pandas as pd\n",
    "from sklearn.model_selection import train_test_split\n",
    "from sklearn.linear_model import LogisticRegression\n",
    "from sklearn.tree import DecisionTreeClassifier\n",
    "from sklearn.ensemble import RandomForestClassifier\n",
    "from sklearn.model_selection import GridSearchCV, cross_val_score\n",
    "from sklearn.metrics import f1_score, roc_auc_score, r2_score\n",
    "import matplotlib.pyplot as plt\n",
    "from sklearn.preprocessing import StandardScaler, MinMaxScaler, RobustScaler\n",
    "from sklearn.metrics import accuracy_score, confusion_matrix, classification_report\n",
    "import statsmodels.api as sm\n",
    "import pickle\n",
    "\n",
    "import warnings\n",
    "warnings.filterwarnings(\"ignore\")"
   ]
  },
  {
   "cell_type": "code",
   "execution_count": 3,
   "id": "cb08ad93",
   "metadata": {
    "ExecuteTime": {
     "end_time": "2024-03-23T20:33:40.062491Z",
     "start_time": "2024-03-23T20:33:39.833659Z"
    }
   },
   "outputs": [
    {
     "name": "stdout",
     "output_type": "stream",
     "text": [
      "(253680, 22)\n"
     ]
    }
   ],
   "source": [
    "df_dbt = pd.read_csv('./data/diabetes_binary_health_indicators_BRFSS2015.csv')\n",
    "print(df_dbt.shape)"
   ]
  },
  {
   "cell_type": "code",
   "execution_count": 4,
   "id": "d83ea387",
   "metadata": {
    "ExecuteTime": {
     "end_time": "2024-03-23T20:33:40.079394Z",
     "start_time": "2024-03-23T20:33:40.063977Z"
    }
   },
   "outputs": [
    {
     "data": {
      "text/html": [
       "<div>\n",
       "<style scoped>\n",
       "    .dataframe tbody tr th:only-of-type {\n",
       "        vertical-align: middle;\n",
       "    }\n",
       "\n",
       "    .dataframe tbody tr th {\n",
       "        vertical-align: top;\n",
       "    }\n",
       "\n",
       "    .dataframe thead th {\n",
       "        text-align: right;\n",
       "    }\n",
       "</style>\n",
       "<table border=\"1\" class=\"dataframe\">\n",
       "  <thead>\n",
       "    <tr style=\"text-align: right;\">\n",
       "      <th></th>\n",
       "      <th>Diabetes_binary</th>\n",
       "      <th>HighBP</th>\n",
       "      <th>HighChol</th>\n",
       "      <th>CholCheck</th>\n",
       "      <th>BMI</th>\n",
       "      <th>Smoker</th>\n",
       "      <th>Stroke</th>\n",
       "      <th>HeartDiseaseorAttack</th>\n",
       "      <th>PhysActivity</th>\n",
       "      <th>Fruits</th>\n",
       "      <th>Veggies</th>\n",
       "      <th>HvyAlcoholConsump</th>\n",
       "      <th>AnyHealthcare</th>\n",
       "      <th>NoDocbcCost</th>\n",
       "      <th>GenHlth</th>\n",
       "      <th>MentHlth</th>\n",
       "      <th>PhysHlth</th>\n",
       "      <th>DiffWalk</th>\n",
       "      <th>Sex</th>\n",
       "      <th>Age</th>\n",
       "      <th>Education</th>\n",
       "      <th>Income</th>\n",
       "    </tr>\n",
       "  </thead>\n",
       "  <tbody>\n",
       "    <tr>\n",
       "      <th>0</th>\n",
       "      <td>0.0</td>\n",
       "      <td>1.0</td>\n",
       "      <td>1.0</td>\n",
       "      <td>1.0</td>\n",
       "      <td>40.0</td>\n",
       "      <td>1.0</td>\n",
       "      <td>0.0</td>\n",
       "      <td>0.0</td>\n",
       "      <td>0.0</td>\n",
       "      <td>0.0</td>\n",
       "      <td>1.0</td>\n",
       "      <td>0.0</td>\n",
       "      <td>1.0</td>\n",
       "      <td>0.0</td>\n",
       "      <td>5.0</td>\n",
       "      <td>18.0</td>\n",
       "      <td>15.0</td>\n",
       "      <td>1.0</td>\n",
       "      <td>0.0</td>\n",
       "      <td>9.0</td>\n",
       "      <td>4.0</td>\n",
       "      <td>3.0</td>\n",
       "    </tr>\n",
       "    <tr>\n",
       "      <th>1</th>\n",
       "      <td>0.0</td>\n",
       "      <td>0.0</td>\n",
       "      <td>0.0</td>\n",
       "      <td>0.0</td>\n",
       "      <td>25.0</td>\n",
       "      <td>1.0</td>\n",
       "      <td>0.0</td>\n",
       "      <td>0.0</td>\n",
       "      <td>1.0</td>\n",
       "      <td>0.0</td>\n",
       "      <td>0.0</td>\n",
       "      <td>0.0</td>\n",
       "      <td>0.0</td>\n",
       "      <td>1.0</td>\n",
       "      <td>3.0</td>\n",
       "      <td>0.0</td>\n",
       "      <td>0.0</td>\n",
       "      <td>0.0</td>\n",
       "      <td>0.0</td>\n",
       "      <td>7.0</td>\n",
       "      <td>6.0</td>\n",
       "      <td>1.0</td>\n",
       "    </tr>\n",
       "  </tbody>\n",
       "</table>\n",
       "</div>"
      ],
      "text/plain": [
       "   Diabetes_binary  HighBP  HighChol  CholCheck   BMI  Smoker  Stroke  \\\n",
       "0              0.0     1.0       1.0        1.0  40.0     1.0     0.0   \n",
       "1              0.0     0.0       0.0        0.0  25.0     1.0     0.0   \n",
       "\n",
       "   HeartDiseaseorAttack  PhysActivity  Fruits  Veggies  HvyAlcoholConsump  \\\n",
       "0                   0.0           0.0     0.0      1.0                0.0   \n",
       "1                   0.0           1.0     0.0      0.0                0.0   \n",
       "\n",
       "   AnyHealthcare  NoDocbcCost  GenHlth  MentHlth  PhysHlth  DiffWalk  Sex  \\\n",
       "0            1.0          0.0      5.0      18.0      15.0       1.0  0.0   \n",
       "1            0.0          1.0      3.0       0.0       0.0       0.0  0.0   \n",
       "\n",
       "   Age  Education  Income  \n",
       "0  9.0        4.0     3.0  \n",
       "1  7.0        6.0     1.0  "
      ]
     },
     "execution_count": 4,
     "metadata": {},
     "output_type": "execute_result"
    }
   ],
   "source": [
    "df_dbt.head(2)"
   ]
  },
  {
   "cell_type": "code",
   "execution_count": 5,
   "id": "2ee0b7dd",
   "metadata": {
    "ExecuteTime": {
     "end_time": "2024-03-23T20:33:40.088431Z",
     "start_time": "2024-03-23T20:33:40.081839Z"
    }
   },
   "outputs": [
    {
     "data": {
      "text/plain": [
       "0.0    0.860667\n",
       "1.0    0.139333\n",
       "Name: Diabetes_binary, dtype: float64"
      ]
     },
     "execution_count": 5,
     "metadata": {},
     "output_type": "execute_result"
    }
   ],
   "source": [
    "df_dbt['Diabetes_binary'].value_counts(dropna=False, normalize=True)"
   ]
  },
  {
   "cell_type": "markdown",
   "id": "6771fd14",
   "metadata": {},
   "source": [
    "# Split Data to Train/Test"
   ]
  },
  {
   "cell_type": "code",
   "execution_count": 6,
   "id": "88962e87",
   "metadata": {
    "ExecuteTime": {
     "end_time": "2024-03-23T20:33:40.138815Z",
     "start_time": "2024-03-23T20:33:40.090022Z"
    }
   },
   "outputs": [
    {
     "name": "stdout",
     "output_type": "stream",
     "text": [
      "(202944, 21) (50736, 21)\n"
     ]
    }
   ],
   "source": [
    "df_train, df_test = train_test_split(df_dbt, test_size=0.2, random_state=42)\n",
    "\n",
    "\n",
    "X = df_dbt.drop('Diabetes_binary', axis=1)\n",
    "y = df_dbt[['Diabetes_binary']]\n",
    "\n",
    "X_train = df_train.drop('Diabetes_binary', axis=1)\n",
    "X_test = df_test.drop('Diabetes_binary', axis=1)\n",
    "\n",
    "y_train = df_train[['Diabetes_binary']]\n",
    "y_test = df_test[['Diabetes_binary']]\n",
    "\n",
    "print(X_train.shape, X_test.shape)"
   ]
  },
  {
   "cell_type": "code",
   "execution_count": 7,
   "id": "99312348",
   "metadata": {
    "ExecuteTime": {
     "end_time": "2024-03-23T20:33:40.146770Z",
     "start_time": "2024-03-23T20:33:40.140202Z"
    }
   },
   "outputs": [
    {
     "data": {
      "text/plain": [
       "Diabetes_binary\n",
       "0.0                0.86209\n",
       "1.0                0.13791\n",
       "dtype: float64"
      ]
     },
     "execution_count": 7,
     "metadata": {},
     "output_type": "execute_result"
    }
   ],
   "source": [
    "y_test.value_counts(normalize=True)"
   ]
  },
  {
   "cell_type": "markdown",
   "id": "0eb143d1",
   "metadata": {},
   "source": [
    "# Data Preprocessing"
   ]
  },
  {
   "cell_type": "code",
   "execution_count": 8,
   "id": "37bf6d85",
   "metadata": {
    "ExecuteTime": {
     "end_time": "2024-03-23T20:33:40.297403Z",
     "start_time": "2024-03-23T20:33:40.148472Z"
    }
   },
   "outputs": [
    {
     "data": {
      "text/html": [
       "<div>\n",
       "<style scoped>\n",
       "    .dataframe tbody tr th:only-of-type {\n",
       "        vertical-align: middle;\n",
       "    }\n",
       "\n",
       "    .dataframe tbody tr th {\n",
       "        vertical-align: top;\n",
       "    }\n",
       "\n",
       "    .dataframe thead th {\n",
       "        text-align: right;\n",
       "    }\n",
       "</style>\n",
       "<table border=\"1\" class=\"dataframe\">\n",
       "  <thead>\n",
       "    <tr style=\"text-align: right;\">\n",
       "      <th></th>\n",
       "      <th>HighBP</th>\n",
       "      <th>HighChol</th>\n",
       "      <th>CholCheck</th>\n",
       "      <th>BMI</th>\n",
       "      <th>Smoker</th>\n",
       "      <th>Stroke</th>\n",
       "      <th>HeartDiseaseorAttack</th>\n",
       "      <th>PhysActivity</th>\n",
       "      <th>Fruits</th>\n",
       "      <th>Veggies</th>\n",
       "      <th>HvyAlcoholConsump</th>\n",
       "      <th>AnyHealthcare</th>\n",
       "      <th>NoDocbcCost</th>\n",
       "      <th>GenHlth</th>\n",
       "      <th>MentHlth</th>\n",
       "      <th>PhysHlth</th>\n",
       "      <th>DiffWalk</th>\n",
       "      <th>Sex</th>\n",
       "      <th>Age</th>\n",
       "      <th>Education</th>\n",
       "      <th>Income</th>\n",
       "    </tr>\n",
       "  </thead>\n",
       "  <tbody>\n",
       "    <tr>\n",
       "      <th>31141</th>\n",
       "      <td>0.0</td>\n",
       "      <td>1.0</td>\n",
       "      <td>0.0</td>\n",
       "      <td>-1.000000</td>\n",
       "      <td>1.0</td>\n",
       "      <td>0.0</td>\n",
       "      <td>0.0</td>\n",
       "      <td>0.0</td>\n",
       "      <td>0.0</td>\n",
       "      <td>0.0</td>\n",
       "      <td>0.0</td>\n",
       "      <td>0.0</td>\n",
       "      <td>0.0</td>\n",
       "      <td>0.0</td>\n",
       "      <td>0.0</td>\n",
       "      <td>0.000000</td>\n",
       "      <td>0.0</td>\n",
       "      <td>1.0</td>\n",
       "      <td>1.00</td>\n",
       "      <td>0.5</td>\n",
       "      <td>0.333333</td>\n",
       "    </tr>\n",
       "    <tr>\n",
       "      <th>98230</th>\n",
       "      <td>0.0</td>\n",
       "      <td>0.0</td>\n",
       "      <td>0.0</td>\n",
       "      <td>1.000000</td>\n",
       "      <td>0.0</td>\n",
       "      <td>0.0</td>\n",
       "      <td>0.0</td>\n",
       "      <td>0.0</td>\n",
       "      <td>-1.0</td>\n",
       "      <td>0.0</td>\n",
       "      <td>0.0</td>\n",
       "      <td>0.0</td>\n",
       "      <td>0.0</td>\n",
       "      <td>1.0</td>\n",
       "      <td>0.0</td>\n",
       "      <td>0.000000</td>\n",
       "      <td>0.0</td>\n",
       "      <td>1.0</td>\n",
       "      <td>0.00</td>\n",
       "      <td>0.0</td>\n",
       "      <td>0.333333</td>\n",
       "    </tr>\n",
       "    <tr>\n",
       "      <th>89662</th>\n",
       "      <td>1.0</td>\n",
       "      <td>1.0</td>\n",
       "      <td>0.0</td>\n",
       "      <td>-0.428571</td>\n",
       "      <td>0.0</td>\n",
       "      <td>0.0</td>\n",
       "      <td>0.0</td>\n",
       "      <td>0.0</td>\n",
       "      <td>0.0</td>\n",
       "      <td>0.0</td>\n",
       "      <td>0.0</td>\n",
       "      <td>0.0</td>\n",
       "      <td>0.0</td>\n",
       "      <td>0.0</td>\n",
       "      <td>0.0</td>\n",
       "      <td>1.666667</td>\n",
       "      <td>0.0</td>\n",
       "      <td>1.0</td>\n",
       "      <td>1.00</td>\n",
       "      <td>0.0</td>\n",
       "      <td>-0.333333</td>\n",
       "    </tr>\n",
       "    <tr>\n",
       "      <th>208255</th>\n",
       "      <td>0.0</td>\n",
       "      <td>1.0</td>\n",
       "      <td>0.0</td>\n",
       "      <td>0.000000</td>\n",
       "      <td>0.0</td>\n",
       "      <td>0.0</td>\n",
       "      <td>0.0</td>\n",
       "      <td>0.0</td>\n",
       "      <td>0.0</td>\n",
       "      <td>0.0</td>\n",
       "      <td>0.0</td>\n",
       "      <td>0.0</td>\n",
       "      <td>0.0</td>\n",
       "      <td>-1.0</td>\n",
       "      <td>0.0</td>\n",
       "      <td>0.000000</td>\n",
       "      <td>0.0</td>\n",
       "      <td>1.0</td>\n",
       "      <td>-0.75</td>\n",
       "      <td>0.5</td>\n",
       "      <td>0.000000</td>\n",
       "    </tr>\n",
       "    <tr>\n",
       "      <th>233415</th>\n",
       "      <td>0.0</td>\n",
       "      <td>1.0</td>\n",
       "      <td>0.0</td>\n",
       "      <td>-0.428571</td>\n",
       "      <td>0.0</td>\n",
       "      <td>0.0</td>\n",
       "      <td>0.0</td>\n",
       "      <td>0.0</td>\n",
       "      <td>0.0</td>\n",
       "      <td>0.0</td>\n",
       "      <td>0.0</td>\n",
       "      <td>0.0</td>\n",
       "      <td>0.0</td>\n",
       "      <td>1.0</td>\n",
       "      <td>0.0</td>\n",
       "      <td>0.000000</td>\n",
       "      <td>1.0</td>\n",
       "      <td>0.0</td>\n",
       "      <td>1.00</td>\n",
       "      <td>-0.5</td>\n",
       "      <td>-0.333333</td>\n",
       "    </tr>\n",
       "  </tbody>\n",
       "</table>\n",
       "</div>"
      ],
      "text/plain": [
       "        HighBP  HighChol  CholCheck       BMI  Smoker  Stroke  \\\n",
       "31141      0.0       1.0        0.0 -1.000000     1.0     0.0   \n",
       "98230      0.0       0.0        0.0  1.000000     0.0     0.0   \n",
       "89662      1.0       1.0        0.0 -0.428571     0.0     0.0   \n",
       "208255     0.0       1.0        0.0  0.000000     0.0     0.0   \n",
       "233415     0.0       1.0        0.0 -0.428571     0.0     0.0   \n",
       "\n",
       "        HeartDiseaseorAttack  PhysActivity  Fruits  Veggies  \\\n",
       "31141                    0.0           0.0     0.0      0.0   \n",
       "98230                    0.0           0.0    -1.0      0.0   \n",
       "89662                    0.0           0.0     0.0      0.0   \n",
       "208255                   0.0           0.0     0.0      0.0   \n",
       "233415                   0.0           0.0     0.0      0.0   \n",
       "\n",
       "        HvyAlcoholConsump  AnyHealthcare  NoDocbcCost  GenHlth  MentHlth  \\\n",
       "31141                 0.0            0.0          0.0      0.0       0.0   \n",
       "98230                 0.0            0.0          0.0      1.0       0.0   \n",
       "89662                 0.0            0.0          0.0      0.0       0.0   \n",
       "208255                0.0            0.0          0.0     -1.0       0.0   \n",
       "233415                0.0            0.0          0.0      1.0       0.0   \n",
       "\n",
       "        PhysHlth  DiffWalk  Sex   Age  Education    Income  \n",
       "31141   0.000000       0.0  1.0  1.00        0.5  0.333333  \n",
       "98230   0.000000       0.0  1.0  0.00        0.0  0.333333  \n",
       "89662   1.666667       0.0  1.0  1.00        0.0 -0.333333  \n",
       "208255  0.000000       0.0  1.0 -0.75        0.5  0.000000  \n",
       "233415  0.000000       1.0  0.0  1.00       -0.5 -0.333333  "
      ]
     },
     "execution_count": 8,
     "metadata": {},
     "output_type": "execute_result"
    }
   ],
   "source": [
    "# scaler = StandardScaler()\n",
    "# scaler = MinMaxScaler()\n",
    "scaler = RobustScaler()\n",
    "X_train_scaled = scaler.fit_transform(X_train)\n",
    "X_train_scaled = pd.DataFrame(X_train_scaled)\n",
    "X_train_scaled.columns = X_train.columns\n",
    "X_train_scaled.index = X_train.index\n",
    "X_train_scaled.head()"
   ]
  },
  {
   "cell_type": "code",
   "execution_count": 9,
   "id": "e4aa5ef7",
   "metadata": {
    "ExecuteTime": {
     "end_time": "2024-03-23T20:33:40.311786Z",
     "start_time": "2024-03-23T20:33:40.299020Z"
    }
   },
   "outputs": [
    {
     "data": {
      "text/html": [
       "<div>\n",
       "<style scoped>\n",
       "    .dataframe tbody tr th:only-of-type {\n",
       "        vertical-align: middle;\n",
       "    }\n",
       "\n",
       "    .dataframe tbody tr th {\n",
       "        vertical-align: top;\n",
       "    }\n",
       "\n",
       "    .dataframe thead th {\n",
       "        text-align: right;\n",
       "    }\n",
       "</style>\n",
       "<table border=\"1\" class=\"dataframe\">\n",
       "  <thead>\n",
       "    <tr style=\"text-align: right;\">\n",
       "      <th></th>\n",
       "      <th>HighBP</th>\n",
       "      <th>HighChol</th>\n",
       "      <th>CholCheck</th>\n",
       "      <th>BMI</th>\n",
       "      <th>Smoker</th>\n",
       "      <th>Stroke</th>\n",
       "      <th>HeartDiseaseorAttack</th>\n",
       "      <th>PhysActivity</th>\n",
       "      <th>Fruits</th>\n",
       "      <th>Veggies</th>\n",
       "      <th>HvyAlcoholConsump</th>\n",
       "      <th>AnyHealthcare</th>\n",
       "      <th>NoDocbcCost</th>\n",
       "      <th>GenHlth</th>\n",
       "      <th>MentHlth</th>\n",
       "      <th>PhysHlth</th>\n",
       "      <th>DiffWalk</th>\n",
       "      <th>Sex</th>\n",
       "      <th>Age</th>\n",
       "      <th>Education</th>\n",
       "      <th>Income</th>\n",
       "    </tr>\n",
       "  </thead>\n",
       "  <tbody>\n",
       "    <tr>\n",
       "      <th>219620</th>\n",
       "      <td>0.0</td>\n",
       "      <td>0.0</td>\n",
       "      <td>0.0</td>\n",
       "      <td>-0.857143</td>\n",
       "      <td>0.0</td>\n",
       "      <td>0.0</td>\n",
       "      <td>0.0</td>\n",
       "      <td>-1.0</td>\n",
       "      <td>0.0</td>\n",
       "      <td>0.0</td>\n",
       "      <td>0.0</td>\n",
       "      <td>0.0</td>\n",
       "      <td>0.0</td>\n",
       "      <td>1.0</td>\n",
       "      <td>1.5</td>\n",
       "      <td>2.333333</td>\n",
       "      <td>0.0</td>\n",
       "      <td>0.0</td>\n",
       "      <td>-0.25</td>\n",
       "      <td>-0.5</td>\n",
       "      <td>-1.666667</td>\n",
       "    </tr>\n",
       "    <tr>\n",
       "      <th>132821</th>\n",
       "      <td>1.0</td>\n",
       "      <td>1.0</td>\n",
       "      <td>0.0</td>\n",
       "      <td>0.142857</td>\n",
       "      <td>0.0</td>\n",
       "      <td>0.0</td>\n",
       "      <td>0.0</td>\n",
       "      <td>0.0</td>\n",
       "      <td>0.0</td>\n",
       "      <td>0.0</td>\n",
       "      <td>0.0</td>\n",
       "      <td>0.0</td>\n",
       "      <td>0.0</td>\n",
       "      <td>1.0</td>\n",
       "      <td>0.0</td>\n",
       "      <td>0.000000</td>\n",
       "      <td>0.0</td>\n",
       "      <td>0.0</td>\n",
       "      <td>1.25</td>\n",
       "      <td>0.5</td>\n",
       "      <td>-0.333333</td>\n",
       "    </tr>\n",
       "  </tbody>\n",
       "</table>\n",
       "</div>"
      ],
      "text/plain": [
       "        HighBP  HighChol  CholCheck       BMI  Smoker  Stroke  \\\n",
       "219620     0.0       0.0        0.0 -0.857143     0.0     0.0   \n",
       "132821     1.0       1.0        0.0  0.142857     0.0     0.0   \n",
       "\n",
       "        HeartDiseaseorAttack  PhysActivity  Fruits  Veggies  \\\n",
       "219620                   0.0          -1.0     0.0      0.0   \n",
       "132821                   0.0           0.0     0.0      0.0   \n",
       "\n",
       "        HvyAlcoholConsump  AnyHealthcare  NoDocbcCost  GenHlth  MentHlth  \\\n",
       "219620                0.0            0.0          0.0      1.0       1.5   \n",
       "132821                0.0            0.0          0.0      1.0       0.0   \n",
       "\n",
       "        PhysHlth  DiffWalk  Sex   Age  Education    Income  \n",
       "219620  2.333333       0.0  0.0 -0.25       -0.5 -1.666667  \n",
       "132821  0.000000       0.0  0.0  1.25        0.5 -0.333333  "
      ]
     },
     "execution_count": 9,
     "metadata": {},
     "output_type": "execute_result"
    }
   ],
   "source": [
    "X_test_scaled = scaler.transform(X_test)\n",
    "X_test_scaled = pd.DataFrame(X_test_scaled)\n",
    "X_test_scaled.columns = X_test.columns\n",
    "X_test_scaled.index = X_test.index\n",
    "X_test_scaled.head(2)"
   ]
  },
  {
   "cell_type": "markdown",
   "id": "5b0cfb04",
   "metadata": {},
   "source": [
    "# Modeling"
   ]
  },
  {
   "cell_type": "code",
   "execution_count": 10,
   "id": "3182e19e",
   "metadata": {
    "ExecuteTime": {
     "end_time": "2024-03-23T20:33:40.316498Z",
     "start_time": "2024-03-23T20:33:40.313374Z"
    }
   },
   "outputs": [],
   "source": [
    "results = pd.DataFrame(columns=['Model', 'Train Score', 'CV Score', 'Test Score', 'Params'])\n"
   ]
  },
  {
   "cell_type": "markdown",
   "id": "2a47aef5",
   "metadata": {},
   "source": [
    "## Logistic Rergession"
   ]
  },
  {
   "cell_type": "code",
   "execution_count": 11,
   "id": "8539b306",
   "metadata": {
    "ExecuteTime": {
     "end_time": "2024-03-23T20:34:17.334913Z",
     "start_time": "2024-03-23T20:33:40.320245Z"
    },
    "scrolled": true
   },
   "outputs": [],
   "source": [
    "model_name = 'Logistic Regression'\n",
    "model_idx = 0\n",
    "\n",
    "model = LogisticRegression(random_state=42, max_iter=500)\n",
    "\n",
    "param_grids = {'penalty': [None, 'l2'], \n",
    "               'C': [0.01, 0.1, 1, 10]}\n",
    "\n",
    "grid_search = GridSearchCV(model, param_grids, cv=5, scoring='f1_macro')\n",
    "grid_search.fit(X_train_scaled, y_train)\n",
    "\n",
    "# train_score = f1_score(y_train, grid_search.predict(X_train_scaled), average='macro')\n",
    "cv_score = grid_search.best_score_\n",
    "# test_score = f1_score(y_test, grid_search.predict(X_test_scaled), average='macro')\n",
    "\n",
    "# results.loc[model_idx] = [model_name, train_score, cv_score, test_score, grid_search.best_params_]\n",
    "model_lr = grid_search.best_estimator_"
   ]
  },
  {
   "cell_type": "code",
   "execution_count": 12,
   "id": "a9ea2a65",
   "metadata": {
    "ExecuteTime": {
     "end_time": "2024-03-23T20:34:17.381845Z",
     "start_time": "2024-03-23T20:34:17.361632Z"
    }
   },
   "outputs": [
    {
     "data": {
      "text/plain": [
       "array([-3.43775043])"
      ]
     },
     "execution_count": 12,
     "metadata": {},
     "output_type": "execute_result"
    }
   ],
   "source": [
    "model_lr.intercept_"
   ]
  },
  {
   "cell_type": "code",
   "execution_count": 13,
   "id": "fe08b243",
   "metadata": {
    "ExecuteTime": {
     "end_time": "2024-03-23T20:34:23.600052Z",
     "start_time": "2024-03-23T20:34:17.422586Z"
    }
   },
   "outputs": [
    {
     "name": "stdout",
     "output_type": "stream",
     "text": [
      "0.25\n"
     ]
    },
    {
     "data": {
      "text/html": [
       "<div>\n",
       "<style scoped>\n",
       "    .dataframe tbody tr th:only-of-type {\n",
       "        vertical-align: middle;\n",
       "    }\n",
       "\n",
       "    .dataframe tbody tr th {\n",
       "        vertical-align: top;\n",
       "    }\n",
       "\n",
       "    .dataframe thead th {\n",
       "        text-align: right;\n",
       "    }\n",
       "</style>\n",
       "<table border=\"1\" class=\"dataframe\">\n",
       "  <thead>\n",
       "    <tr style=\"text-align: right;\">\n",
       "      <th></th>\n",
       "      <th>Model</th>\n",
       "      <th>Train Score</th>\n",
       "      <th>CV Score</th>\n",
       "      <th>Test Score</th>\n",
       "      <th>Params</th>\n",
       "    </tr>\n",
       "  </thead>\n",
       "  <tbody>\n",
       "    <tr>\n",
       "      <th>0</th>\n",
       "      <td>Logistic Regression</td>\n",
       "      <td>0.673793</td>\n",
       "      <td>0.581462</td>\n",
       "      <td>0.672751</td>\n",
       "      <td>{'C': 0.01, 'penalty': None}</td>\n",
       "    </tr>\n",
       "  </tbody>\n",
       "</table>\n",
       "</div>"
      ],
      "text/plain": [
       "                 Model  Train Score  CV Score  Test Score  \\\n",
       "0  Logistic Regression     0.673793  0.581462    0.672751   \n",
       "\n",
       "                         Params  \n",
       "0  {'C': 0.01, 'penalty': None}  "
      ]
     },
     "execution_count": 13,
     "metadata": {},
     "output_type": "execute_result"
    }
   ],
   "source": [
    "# find the right threshold for cutting prediction\n",
    "y_pred = model_lr.predict_proba(X_train_scaled)[:, 1]\n",
    "list_f1score_lr = []\n",
    "for i in np.arange(0, 1, 0.01):\n",
    "    \n",
    "    list_f1score_lr.append(f1_score(y_train, y_pred>=i, average='macro'))\n",
    "\n",
    "ind_lr = np.argmax(list_f1score_lr)\n",
    "\n",
    "f1_thresh_lr = np.arange(0, 1, 0.01)[ind_lr]\n",
    "print(f1_thresh_lr)\n",
    "\n",
    "train_score = f1_score(y_train, model_lr.predict_proba(X_train_scaled)[:, 1]>f1_thresh_lr, average='macro')\n",
    "test_score = f1_score(y_test, model_lr.predict_proba(X_test_scaled)[:, 1]>f1_thresh_lr, average='macro')\n",
    "results.loc[model_idx] = [model_name, train_score, cv_score, test_score, grid_search.best_params_]\n",
    "results"
   ]
  },
  {
   "cell_type": "code",
   "execution_count": 14,
   "id": "b5e8e05b",
   "metadata": {
    "ExecuteTime": {
     "end_time": "2024-03-23T20:34:23.756262Z",
     "start_time": "2024-03-23T20:34:23.630599Z"
    }
   },
   "outputs": [
    {
     "name": "stdout",
     "output_type": "stream",
     "text": [
      "Confusion Matrix:\n",
      " [[37901  5838]\n",
      " [ 3244  3753]]\n",
      "              precision    recall  f1-score   support\n",
      "\n",
      "         0.0       0.92      0.87      0.89     43739\n",
      "         1.0       0.39      0.54      0.45      6997\n",
      "\n",
      "    accuracy                           0.82     50736\n",
      "   macro avg       0.66      0.70      0.67     50736\n",
      "weighted avg       0.85      0.82      0.83     50736\n",
      "\n"
     ]
    }
   ],
   "source": [
    "y_pred = model_lr.predict_proba(X_test_scaled)[:, 1]\n",
    "print('Confusion Matrix:\\n', confusion_matrix(y_test, y_pred>f1_thresh_lr))\n",
    "print(classification_report(y_test, y_pred>f1_thresh_lr))"
   ]
  },
  {
   "cell_type": "code",
   "execution_count": 16,
   "id": "43b680c8",
   "metadata": {
    "ExecuteTime": {
     "end_time": "2024-03-23T20:34:24.199376Z",
     "start_time": "2024-03-23T20:34:23.979974Z"
    }
   },
   "outputs": [
    {
     "data": {
      "image/png": "[encoded data removed]",
      "text/plain": [
       "<Figure size 800x600 with 1 Axes>"
      ]
     },
     "metadata": {},
     "output_type": "display_data"
    }
   ],
   "source": [
    "# Create DataFrame and sort\n",
    "feature_df = pd.DataFrame({'feature': model_lr.feature_names_in_, 'importance': model_lr.coef_[0]})\n",
    "feature_df = feature_df.sort_values(by='importance', ascending=False)  \n",
    "\n",
    "# Plot the feature importances\n",
    "plt.figure(figsize=(8, 6))\n",
    "plt.barh(feature_df['feature'], feature_df['importance'])\n",
    "plt.xlabel('Importance')\n",
    "plt.ylabel('Features')\n",
    "plt.title(f'Logistic Regression Feature Importances')\n",
    "plt.show()"
   ]
  },
  {
   "cell_type": "code",
   "execution_count": 17,
   "id": "912b4fed",
   "metadata": {
    "ExecuteTime": {
     "end_time": "2024-03-23T20:34:24.205187Z",
     "start_time": "2024-03-23T20:34:24.200804Z"
    }
   },
   "outputs": [
    {
     "data": {
      "text/html": [
       "<div>\n",
       "<style scoped>\n",
       "    .dataframe tbody tr th:only-of-type {\n",
       "        vertical-align: middle;\n",
       "    }\n",
       "\n",
       "    .dataframe tbody tr th {\n",
       "        vertical-align: top;\n",
       "    }\n",
       "\n",
       "    .dataframe thead th {\n",
       "        text-align: right;\n",
       "    }\n",
       "</style>\n",
       "<table border=\"1\" class=\"dataframe\">\n",
       "  <thead>\n",
       "    <tr style=\"text-align: right;\">\n",
       "      <th></th>\n",
       "      <th>feature</th>\n",
       "      <th>importance</th>\n",
       "    </tr>\n",
       "  </thead>\n",
       "  <tbody>\n",
       "    <tr>\n",
       "      <th>2</th>\n",
       "      <td>CholCheck</td>\n",
       "      <td>1.253009</td>\n",
       "    </tr>\n",
       "    <tr>\n",
       "      <th>0</th>\n",
       "      <td>HighBP</td>\n",
       "      <td>0.749128</td>\n",
       "    </tr>\n",
       "    <tr>\n",
       "      <th>1</th>\n",
       "      <td>HighChol</td>\n",
       "      <td>0.561608</td>\n",
       "    </tr>\n",
       "    <tr>\n",
       "      <th>13</th>\n",
       "      <td>GenHlth</td>\n",
       "      <td>0.530341</td>\n",
       "    </tr>\n",
       "    <tr>\n",
       "      <th>18</th>\n",
       "      <td>Age</td>\n",
       "      <td>0.492992</td>\n",
       "    </tr>\n",
       "    <tr>\n",
       "      <th>3</th>\n",
       "      <td>BMI</td>\n",
       "      <td>0.425936</td>\n",
       "    </tr>\n",
       "    <tr>\n",
       "      <th>17</th>\n",
       "      <td>Sex</td>\n",
       "      <td>0.258160</td>\n",
       "    </tr>\n",
       "    <tr>\n",
       "      <th>6</th>\n",
       "      <td>HeartDiseaseorAttack</td>\n",
       "      <td>0.233976</td>\n",
       "    </tr>\n",
       "    <tr>\n",
       "      <th>16</th>\n",
       "      <td>DiffWalk</td>\n",
       "      <td>0.143904</td>\n",
       "    </tr>\n",
       "    <tr>\n",
       "      <th>5</th>\n",
       "      <td>Stroke</td>\n",
       "      <td>0.142298</td>\n",
       "    </tr>\n",
       "    <tr>\n",
       "      <th>11</th>\n",
       "      <td>AnyHealthcare</td>\n",
       "      <td>0.060799</td>\n",
       "    </tr>\n",
       "    <tr>\n",
       "      <th>12</th>\n",
       "      <td>NoDocbcCost</td>\n",
       "      <td>0.018586</td>\n",
       "    </tr>\n",
       "    <tr>\n",
       "      <th>4</th>\n",
       "      <td>Smoker</td>\n",
       "      <td>-0.003604</td>\n",
       "    </tr>\n",
       "    <tr>\n",
       "      <th>14</th>\n",
       "      <td>MentHlth</td>\n",
       "      <td>-0.007258</td>\n",
       "    </tr>\n",
       "    <tr>\n",
       "      <th>15</th>\n",
       "      <td>PhysHlth</td>\n",
       "      <td>-0.022389</td>\n",
       "    </tr>\n",
       "    <tr>\n",
       "      <th>9</th>\n",
       "      <td>Veggies</td>\n",
       "      <td>-0.036432</td>\n",
       "    </tr>\n",
       "    <tr>\n",
       "      <th>8</th>\n",
       "      <td>Fruits</td>\n",
       "      <td>-0.044589</td>\n",
       "    </tr>\n",
       "    <tr>\n",
       "      <th>7</th>\n",
       "      <td>PhysActivity</td>\n",
       "      <td>-0.049266</td>\n",
       "    </tr>\n",
       "    <tr>\n",
       "      <th>19</th>\n",
       "      <td>Education</td>\n",
       "      <td>-0.059140</td>\n",
       "    </tr>\n",
       "    <tr>\n",
       "      <th>20</th>\n",
       "      <td>Income</td>\n",
       "      <td>-0.154018</td>\n",
       "    </tr>\n",
       "    <tr>\n",
       "      <th>10</th>\n",
       "      <td>HvyAlcoholConsump</td>\n",
       "      <td>-0.735539</td>\n",
       "    </tr>\n",
       "  </tbody>\n",
       "</table>\n",
       "</div>"
      ],
      "text/plain": [
       "                 feature  importance\n",
       "2              CholCheck    1.253009\n",
       "0                 HighBP    0.749128\n",
       "1               HighChol    0.561608\n",
       "13               GenHlth    0.530341\n",
       "18                   Age    0.492992\n",
       "3                    BMI    0.425936\n",
       "17                   Sex    0.258160\n",
       "6   HeartDiseaseorAttack    0.233976\n",
       "16              DiffWalk    0.143904\n",
       "5                 Stroke    0.142298\n",
       "11         AnyHealthcare    0.060799\n",
       "12           NoDocbcCost    0.018586\n",
       "4                 Smoker   -0.003604\n",
       "14              MentHlth   -0.007258\n",
       "15              PhysHlth   -0.022389\n",
       "9                Veggies   -0.036432\n",
       "8                 Fruits   -0.044589\n",
       "7           PhysActivity   -0.049266\n",
       "19             Education   -0.059140\n",
       "20                Income   -0.154018\n",
       "10     HvyAlcoholConsump   -0.735539"
      ]
     },
     "execution_count": 17,
     "metadata": {},
     "output_type": "execute_result"
    }
   ],
   "source": [
    "feature_df"
   ]
  },
  {
   "cell_type": "code",
   "execution_count": 18,
   "id": "b4458df0",
   "metadata": {
    "ExecuteTime": {
     "end_time": "2024-03-23T20:34:24.212151Z",
     "start_time": "2024-03-23T20:34:24.206287Z"
    }
   },
   "outputs": [
    {
     "data": {
      "text/html": [
       "<div>\n",
       "<style scoped>\n",
       "    .dataframe tbody tr th:only-of-type {\n",
       "        vertical-align: middle;\n",
       "    }\n",
       "\n",
       "    .dataframe tbody tr th {\n",
       "        vertical-align: top;\n",
       "    }\n",
       "\n",
       "    .dataframe thead th {\n",
       "        text-align: right;\n",
       "    }\n",
       "</style>\n",
       "<table border=\"1\" class=\"dataframe\">\n",
       "  <thead>\n",
       "    <tr style=\"text-align: right;\">\n",
       "      <th></th>\n",
       "      <th>feature</th>\n",
       "      <th>importance</th>\n",
       "      <th>importance_abs</th>\n",
       "    </tr>\n",
       "  </thead>\n",
       "  <tbody>\n",
       "    <tr>\n",
       "      <th>2</th>\n",
       "      <td>CholCheck</td>\n",
       "      <td>1.253009</td>\n",
       "      <td>1.253009</td>\n",
       "    </tr>\n",
       "    <tr>\n",
       "      <th>0</th>\n",
       "      <td>HighBP</td>\n",
       "      <td>0.749128</td>\n",
       "      <td>0.749128</td>\n",
       "    </tr>\n",
       "    <tr>\n",
       "      <th>10</th>\n",
       "      <td>HvyAlcoholConsump</td>\n",
       "      <td>-0.735539</td>\n",
       "      <td>0.735539</td>\n",
       "    </tr>\n",
       "    <tr>\n",
       "      <th>1</th>\n",
       "      <td>HighChol</td>\n",
       "      <td>0.561608</td>\n",
       "      <td>0.561608</td>\n",
       "    </tr>\n",
       "    <tr>\n",
       "      <th>13</th>\n",
       "      <td>GenHlth</td>\n",
       "      <td>0.530341</td>\n",
       "      <td>0.530341</td>\n",
       "    </tr>\n",
       "    <tr>\n",
       "      <th>18</th>\n",
       "      <td>Age</td>\n",
       "      <td>0.492992</td>\n",
       "      <td>0.492992</td>\n",
       "    </tr>\n",
       "    <tr>\n",
       "      <th>3</th>\n",
       "      <td>BMI</td>\n",
       "      <td>0.425936</td>\n",
       "      <td>0.425936</td>\n",
       "    </tr>\n",
       "    <tr>\n",
       "      <th>17</th>\n",
       "      <td>Sex</td>\n",
       "      <td>0.258160</td>\n",
       "      <td>0.258160</td>\n",
       "    </tr>\n",
       "    <tr>\n",
       "      <th>6</th>\n",
       "      <td>HeartDiseaseorAttack</td>\n",
       "      <td>0.233976</td>\n",
       "      <td>0.233976</td>\n",
       "    </tr>\n",
       "    <tr>\n",
       "      <th>20</th>\n",
       "      <td>Income</td>\n",
       "      <td>-0.154018</td>\n",
       "      <td>0.154018</td>\n",
       "    </tr>\n",
       "    <tr>\n",
       "      <th>16</th>\n",
       "      <td>DiffWalk</td>\n",
       "      <td>0.143904</td>\n",
       "      <td>0.143904</td>\n",
       "    </tr>\n",
       "    <tr>\n",
       "      <th>5</th>\n",
       "      <td>Stroke</td>\n",
       "      <td>0.142298</td>\n",
       "      <td>0.142298</td>\n",
       "    </tr>\n",
       "    <tr>\n",
       "      <th>11</th>\n",
       "      <td>AnyHealthcare</td>\n",
       "      <td>0.060799</td>\n",
       "      <td>0.060799</td>\n",
       "    </tr>\n",
       "    <tr>\n",
       "      <th>19</th>\n",
       "      <td>Education</td>\n",
       "      <td>-0.059140</td>\n",
       "      <td>0.059140</td>\n",
       "    </tr>\n",
       "    <tr>\n",
       "      <th>7</th>\n",
       "      <td>PhysActivity</td>\n",
       "      <td>-0.049266</td>\n",
       "      <td>0.049266</td>\n",
       "    </tr>\n",
       "    <tr>\n",
       "      <th>8</th>\n",
       "      <td>Fruits</td>\n",
       "      <td>-0.044589</td>\n",
       "      <td>0.044589</td>\n",
       "    </tr>\n",
       "    <tr>\n",
       "      <th>9</th>\n",
       "      <td>Veggies</td>\n",
       "      <td>-0.036432</td>\n",
       "      <td>0.036432</td>\n",
       "    </tr>\n",
       "    <tr>\n",
       "      <th>15</th>\n",
       "      <td>PhysHlth</td>\n",
       "      <td>-0.022389</td>\n",
       "      <td>0.022389</td>\n",
       "    </tr>\n",
       "    <tr>\n",
       "      <th>12</th>\n",
       "      <td>NoDocbcCost</td>\n",
       "      <td>0.018586</td>\n",
       "      <td>0.018586</td>\n",
       "    </tr>\n",
       "    <tr>\n",
       "      <th>14</th>\n",
       "      <td>MentHlth</td>\n",
       "      <td>-0.007258</td>\n",
       "      <td>0.007258</td>\n",
       "    </tr>\n",
       "    <tr>\n",
       "      <th>4</th>\n",
       "      <td>Smoker</td>\n",
       "      <td>-0.003604</td>\n",
       "      <td>0.003604</td>\n",
       "    </tr>\n",
       "  </tbody>\n",
       "</table>\n",
       "</div>"
      ],
      "text/plain": [
       "                 feature  importance  importance_abs\n",
       "2              CholCheck    1.253009        1.253009\n",
       "0                 HighBP    0.749128        0.749128\n",
       "10     HvyAlcoholConsump   -0.735539        0.735539\n",
       "1               HighChol    0.561608        0.561608\n",
       "13               GenHlth    0.530341        0.530341\n",
       "18                   Age    0.492992        0.492992\n",
       "3                    BMI    0.425936        0.425936\n",
       "17                   Sex    0.258160        0.258160\n",
       "6   HeartDiseaseorAttack    0.233976        0.233976\n",
       "20                Income   -0.154018        0.154018\n",
       "16              DiffWalk    0.143904        0.143904\n",
       "5                 Stroke    0.142298        0.142298\n",
       "11         AnyHealthcare    0.060799        0.060799\n",
       "19             Education   -0.059140        0.059140\n",
       "7           PhysActivity   -0.049266        0.049266\n",
       "8                 Fruits   -0.044589        0.044589\n",
       "9                Veggies   -0.036432        0.036432\n",
       "15              PhysHlth   -0.022389        0.022389\n",
       "12           NoDocbcCost    0.018586        0.018586\n",
       "14              MentHlth   -0.007258        0.007258\n",
       "4                 Smoker   -0.003604        0.003604"
      ]
     },
     "execution_count": 18,
     "metadata": {},
     "output_type": "execute_result"
    }
   ],
   "source": [
    "feature_df['importance_abs'] = abs(feature_df['importance'])\n",
    "feature_df.sort_values('importance_abs', ascending=False)"
   ]
  },
  {
   "cell_type": "markdown",
   "id": "9448ff0b",
   "metadata": {},
   "source": [
    "### using SM"
   ]
  },
  {
   "cell_type": "code",
   "execution_count": 19,
   "id": "d6a56bb6",
   "metadata": {
    "ExecuteTime": {
     "end_time": "2024-03-23T20:34:25.238369Z",
     "start_time": "2024-03-23T20:34:24.213332Z"
    }
   },
   "outputs": [
    {
     "name": "stdout",
     "output_type": "stream",
     "text": [
      "Optimization terminated successfully.\n",
      "         Current function value: 0.320710\n",
      "         Iterations 8\n",
      "                           Logit Regression Results                           \n",
      "==============================================================================\n",
      "Dep. Variable:        Diabetes_binary   No. Observations:               202944\n",
      "Model:                          Logit   Df Residuals:                   202922\n",
      "Method:                           MLE   Df Model:                           21\n",
      "Date:                Sat, 23 Mar 2024   Pseudo R-squ.:                  0.2069\n",
      "Time:                        13:34:25   Log-Likelihood:                -65086.\n",
      "converged:                       True   LL-Null:                       -82070.\n",
      "Covariance Type:            nonrobust   LLR p-value:                     0.000\n",
      "========================================================================================\n",
      "                           coef    std err          z      P>|z|      [0.025      0.975]\n",
      "----------------------------------------------------------------------------------------\n",
      "const                   -3.4376      0.019   -177.719      0.000      -3.475      -3.400\n",
      "HighBP                   0.7491      0.016     45.544      0.000       0.717       0.781\n",
      "HighChol                 0.5615      0.015     37.068      0.000       0.532       0.591\n",
      "CholCheck                1.2547      0.077     16.385      0.000       1.105       1.405\n",
      "BMI                      0.4259      0.007     60.568      0.000       0.412       0.440\n",
      "Smoker                  -0.0036      0.015     -0.244      0.807      -0.032       0.025\n",
      "Stroke                   0.1419      0.028      5.070      0.000       0.087       0.197\n",
      "HeartDiseaseorAttack     0.2340      0.020     11.790      0.000       0.195       0.273\n",
      "PhysActivity            -0.0493      0.016     -3.057      0.002      -0.081      -0.018\n",
      "Fruits                  -0.0446      0.015     -2.914      0.004      -0.075      -0.015\n",
      "Veggies                 -0.0364      0.018     -2.050      0.040      -0.071      -0.002\n",
      "HvyAlcoholConsump       -0.7360      0.042    -17.329      0.000      -0.819      -0.653\n",
      "AnyHealthcare            0.0611      0.037      1.641      0.101      -0.012       0.134\n",
      "NoDocbcCost              0.0181      0.026      0.704      0.482      -0.032       0.068\n",
      "GenHlth                  0.5303      0.009     58.473      0.000       0.512       0.548\n",
      "MentHlth                -0.0073      0.002     -3.814      0.000      -0.011      -0.004\n",
      "PhysHlth                -0.0224      0.003     -8.532      0.000      -0.028      -0.017\n",
      "DiffWalk                 0.1441      0.019      7.611      0.000       0.107       0.181\n",
      "Sex                      0.2583      0.015     17.199      0.000       0.229       0.288\n",
      "Age                      0.4929      0.012     39.498      0.000       0.468       0.517\n",
      "Education               -0.0591      0.016     -3.804      0.000      -0.090      -0.029\n",
      "Income                  -0.1541      0.012    -12.899      0.000      -0.177      -0.131\n",
      "========================================================================================\n"
     ]
    }
   ],
   "source": [
    "logit_model = sm.Logit(y_train, sm.add_constant(X_train_scaled))\n",
    "result = logit_model.fit()\n",
    "print(result.summary())"
   ]
  },
  {
   "cell_type": "markdown",
   "id": "58374ad5",
   "metadata": {},
   "source": [
    "## Decision Tree"
   ]
  },
  {
   "cell_type": "code",
   "execution_count": 20,
   "id": "c14d641e",
   "metadata": {
    "ExecuteTime": {
     "end_time": "2024-03-23T20:36:38.419995Z",
     "start_time": "2024-03-23T20:34:25.240428Z"
    }
   },
   "outputs": [],
   "source": [
    "model_name = 'Decision Tree'\n",
    "model_idx = 1\n",
    "\n",
    "model = DecisionTreeClassifier(random_state=42)\n",
    "\n",
    "param_grids = {'max_depth': [3, 5,\n",
    "                             7, 9, 11],\n",
    "               'min_samples_leaf': [1, 2, 4],\n",
    "               'min_samples_split': [2, 5, 10],\n",
    "               'criterion': ['gini', 'entropy']}\n",
    "\n",
    "grid_search = GridSearchCV(model, param_grids, cv=5, scoring='f1_macro')\n",
    "grid_search.fit(X_train_scaled, y_train)\n",
    "\n",
    "cv_score = grid_search.best_score_\n",
    "\n",
    "model_dt = grid_search.best_estimator_"
   ]
  },
  {
   "cell_type": "code",
   "execution_count": 21,
   "id": "f7702558",
   "metadata": {
    "ExecuteTime": {
     "end_time": "2024-03-23T20:36:44.650255Z",
     "start_time": "2024-03-23T20:36:38.421542Z"
    }
   },
   "outputs": [
    {
     "name": "stdout",
     "output_type": "stream",
     "text": [
      "0.29\n"
     ]
    },
    {
     "data": {
      "text/html": [
       "<div>\n",
       "<style scoped>\n",
       "    .dataframe tbody tr th:only-of-type {\n",
       "        vertical-align: middle;\n",
       "    }\n",
       "\n",
       "    .dataframe tbody tr th {\n",
       "        vertical-align: top;\n",
       "    }\n",
       "\n",
       "    .dataframe thead th {\n",
       "        text-align: right;\n",
       "    }\n",
       "</style>\n",
       "<table border=\"1\" class=\"dataframe\">\n",
       "  <thead>\n",
       "    <tr style=\"text-align: right;\">\n",
       "      <th></th>\n",
       "      <th>Model</th>\n",
       "      <th>Train Score</th>\n",
       "      <th>CV Score</th>\n",
       "      <th>Test Score</th>\n",
       "      <th>Params</th>\n",
       "    </tr>\n",
       "  </thead>\n",
       "  <tbody>\n",
       "    <tr>\n",
       "      <th>0</th>\n",
       "      <td>Logistic Regression</td>\n",
       "      <td>0.673793</td>\n",
       "      <td>0.581462</td>\n",
       "      <td>0.672751</td>\n",
       "      <td>{'C': 0.01, 'penalty': None}</td>\n",
       "    </tr>\n",
       "    <tr>\n",
       "      <th>1</th>\n",
       "      <td>Decision Tree</td>\n",
       "      <td>0.699446</td>\n",
       "      <td>0.585348</td>\n",
       "      <td>0.670886</td>\n",
       "      <td>{'criterion': 'gini', 'max_depth': 11, 'min_samples_leaf': 2, 'min_samples_split': 10}</td>\n",
       "    </tr>\n",
       "  </tbody>\n",
       "</table>\n",
       "</div>"
      ],
      "text/plain": [
       "                 Model  Train Score  CV Score  Test Score  \\\n",
       "0  Logistic Regression     0.673793  0.581462    0.672751   \n",
       "1        Decision Tree     0.699446  0.585348    0.670886   \n",
       "\n",
       "                                                                                   Params  \n",
       "0                                                            {'C': 0.01, 'penalty': None}  \n",
       "1  {'criterion': 'gini', 'max_depth': 11, 'min_samples_leaf': 2, 'min_samples_split': 10}  "
      ]
     },
     "execution_count": 21,
     "metadata": {},
     "output_type": "execute_result"
    }
   ],
   "source": [
    "# find the right threshold for cutting prediction\n",
    "y_pred = model_dt.predict_proba(X_train_scaled)[:, 1]\n",
    "list_f1score_dt = []\n",
    "for i in np.arange(0, 1, 0.01):\n",
    "    \n",
    "    list_f1score_dt.append(f1_score(y_train, y_pred>=i, average='macro'))\n",
    "\n",
    "ind_dt = np.argmax(list_f1score_dt)\n",
    "\n",
    "f1_thresh_dt = np.arange(0, 1, 0.01)[ind_dt]\n",
    "print(f1_thresh_dt)\n",
    "\n",
    "train_score = f1_score(y_train, model_dt.predict_proba(X_train_scaled)[:, 1]>f1_thresh_dt, average='macro')\n",
    "test_score = f1_score(y_test, model_dt.predict_proba(X_test_scaled)[:, 1]>f1_thresh_dt, average='macro')\n",
    "results.loc[model_idx] = [model_name, train_score, cv_score, test_score, grid_search.best_params_]\n",
    "results"
   ]
  },
  {
   "cell_type": "code",
   "execution_count": 22,
   "id": "2b648b39",
   "metadata": {
    "ExecuteTime": {
     "end_time": "2024-03-23T20:36:44.761647Z",
     "start_time": "2024-03-23T20:36:44.651615Z"
    }
   },
   "outputs": [
    {
     "name": "stdout",
     "output_type": "stream",
     "text": [
      "Confusion Matrix:\n",
      " [[38278  5461]\n",
      " [ 3424  3573]]\n",
      "              precision    recall  f1-score   support\n",
      "\n",
      "         0.0       0.92      0.88      0.90     43739\n",
      "         1.0       0.40      0.51      0.45      6997\n",
      "\n",
      "    accuracy                           0.82     50736\n",
      "   macro avg       0.66      0.69      0.67     50736\n",
      "weighted avg       0.85      0.82      0.83     50736\n",
      "\n"
     ]
    }
   ],
   "source": [
    "y_pred = model_dt.predict_proba(X_test_scaled)[:, 1]\n",
    "print('Confusion Matrix:\\n', confusion_matrix(y_test, y_pred>f1_thresh_dt))\n",
    "print(classification_report(y_test, y_pred>f1_thresh_dt))"
   ]
  },
  {
   "cell_type": "code",
   "execution_count": 23,
   "id": "78b0e9f2",
   "metadata": {
    "ExecuteTime": {
     "end_time": "2024-03-23T20:36:44.983625Z",
     "start_time": "2024-03-23T20:36:44.762757Z"
    }
   },
   "outputs": [
    {
     "data": {
      "image/png": "[encoded data removed]",
      "text/plain": [
       "<Figure size 800x600 with 1 Axes>"
      ]
     },
     "metadata": {},
     "output_type": "display_data"
    }
   ],
   "source": [
    "# Extract feature importances\n",
    "importances = model_dt.feature_importances_\n",
    "\n",
    "# Create DataFrame and sort\n",
    "feature_df = pd.DataFrame({'feature': X_train_scaled.columns, 'importance': importances})\n",
    "feature_df = feature_df.sort_values(by='importance', ascending=False)  \n",
    "\n",
    "# Plot the feature importances\n",
    "plt.figure(figsize=(8, 6)) \n",
    "plt.barh(feature_df['feature'], feature_df['importance'])\n",
    "plt.xlabel('Importance')\n",
    "plt.ylabel('Features')\n",
    "plt.title(f'Decision Tree Feature Importances')\n",
    "plt.show()"
   ]
  },
  {
   "cell_type": "code",
   "execution_count": 24,
   "id": "aefee2e4",
   "metadata": {
    "ExecuteTime": {
     "end_time": "2024-03-23T20:36:44.989501Z",
     "start_time": "2024-03-23T20:36:44.984754Z"
    }
   },
   "outputs": [
    {
     "data": {
      "text/html": [
       "<div>\n",
       "<style scoped>\n",
       "    .dataframe tbody tr th:only-of-type {\n",
       "        vertical-align: middle;\n",
       "    }\n",
       "\n",
       "    .dataframe tbody tr th {\n",
       "        vertical-align: top;\n",
       "    }\n",
       "\n",
       "    .dataframe thead th {\n",
       "        text-align: right;\n",
       "    }\n",
       "</style>\n",
       "<table border=\"1\" class=\"dataframe\">\n",
       "  <thead>\n",
       "    <tr style=\"text-align: right;\">\n",
       "      <th></th>\n",
       "      <th>feature</th>\n",
       "      <th>importance</th>\n",
       "    </tr>\n",
       "  </thead>\n",
       "  <tbody>\n",
       "    <tr>\n",
       "      <th>0</th>\n",
       "      <td>HighBP</td>\n",
       "      <td>0.298952</td>\n",
       "    </tr>\n",
       "    <tr>\n",
       "      <th>13</th>\n",
       "      <td>GenHlth</td>\n",
       "      <td>0.253291</td>\n",
       "    </tr>\n",
       "    <tr>\n",
       "      <th>3</th>\n",
       "      <td>BMI</td>\n",
       "      <td>0.149555</td>\n",
       "    </tr>\n",
       "    <tr>\n",
       "      <th>18</th>\n",
       "      <td>Age</td>\n",
       "      <td>0.083001</td>\n",
       "    </tr>\n",
       "    <tr>\n",
       "      <th>1</th>\n",
       "      <td>HighChol</td>\n",
       "      <td>0.047690</td>\n",
       "    </tr>\n",
       "    <tr>\n",
       "      <th>20</th>\n",
       "      <td>Income</td>\n",
       "      <td>0.025387</td>\n",
       "    </tr>\n",
       "    <tr>\n",
       "      <th>15</th>\n",
       "      <td>PhysHlth</td>\n",
       "      <td>0.022906</td>\n",
       "    </tr>\n",
       "    <tr>\n",
       "      <th>14</th>\n",
       "      <td>MentHlth</td>\n",
       "      <td>0.018947</td>\n",
       "    </tr>\n",
       "    <tr>\n",
       "      <th>6</th>\n",
       "      <td>HeartDiseaseorAttack</td>\n",
       "      <td>0.017918</td>\n",
       "    </tr>\n",
       "    <tr>\n",
       "      <th>19</th>\n",
       "      <td>Education</td>\n",
       "      <td>0.017062</td>\n",
       "    </tr>\n",
       "    <tr>\n",
       "      <th>16</th>\n",
       "      <td>DiffWalk</td>\n",
       "      <td>0.009875</td>\n",
       "    </tr>\n",
       "    <tr>\n",
       "      <th>17</th>\n",
       "      <td>Sex</td>\n",
       "      <td>0.009735</td>\n",
       "    </tr>\n",
       "    <tr>\n",
       "      <th>10</th>\n",
       "      <td>HvyAlcoholConsump</td>\n",
       "      <td>0.008106</td>\n",
       "    </tr>\n",
       "    <tr>\n",
       "      <th>4</th>\n",
       "      <td>Smoker</td>\n",
       "      <td>0.006511</td>\n",
       "    </tr>\n",
       "    <tr>\n",
       "      <th>5</th>\n",
       "      <td>Stroke</td>\n",
       "      <td>0.006229</td>\n",
       "    </tr>\n",
       "    <tr>\n",
       "      <th>7</th>\n",
       "      <td>PhysActivity</td>\n",
       "      <td>0.006070</td>\n",
       "    </tr>\n",
       "    <tr>\n",
       "      <th>12</th>\n",
       "      <td>NoDocbcCost</td>\n",
       "      <td>0.005735</td>\n",
       "    </tr>\n",
       "    <tr>\n",
       "      <th>8</th>\n",
       "      <td>Fruits</td>\n",
       "      <td>0.004168</td>\n",
       "    </tr>\n",
       "    <tr>\n",
       "      <th>9</th>\n",
       "      <td>Veggies</td>\n",
       "      <td>0.003912</td>\n",
       "    </tr>\n",
       "    <tr>\n",
       "      <th>11</th>\n",
       "      <td>AnyHealthcare</td>\n",
       "      <td>0.002499</td>\n",
       "    </tr>\n",
       "    <tr>\n",
       "      <th>2</th>\n",
       "      <td>CholCheck</td>\n",
       "      <td>0.002454</td>\n",
       "    </tr>\n",
       "  </tbody>\n",
       "</table>\n",
       "</div>"
      ],
      "text/plain": [
       "                 feature  importance\n",
       "0                 HighBP    0.298952\n",
       "13               GenHlth    0.253291\n",
       "3                    BMI    0.149555\n",
       "18                   Age    0.083001\n",
       "1               HighChol    0.047690\n",
       "20                Income    0.025387\n",
       "15              PhysHlth    0.022906\n",
       "14              MentHlth    0.018947\n",
       "6   HeartDiseaseorAttack    0.017918\n",
       "19             Education    0.017062\n",
       "16              DiffWalk    0.009875\n",
       "17                   Sex    0.009735\n",
       "10     HvyAlcoholConsump    0.008106\n",
       "4                 Smoker    0.006511\n",
       "5                 Stroke    0.006229\n",
       "7           PhysActivity    0.006070\n",
       "12           NoDocbcCost    0.005735\n",
       "8                 Fruits    0.004168\n",
       "9                Veggies    0.003912\n",
       "11         AnyHealthcare    0.002499\n",
       "2              CholCheck    0.002454"
      ]
     },
     "execution_count": 24,
     "metadata": {},
     "output_type": "execute_result"
    }
   ],
   "source": [
    "feature_df"
   ]
  },
  {
   "cell_type": "markdown",
   "id": "866ee2fa",
   "metadata": {},
   "source": [
    "## Random Forest"
   ]
  },
  {
   "cell_type": "code",
   "execution_count": 25,
   "id": "59237e47",
   "metadata": {
    "ExecuteTime": {
     "end_time": "2024-03-23T21:13:45.841708Z",
     "start_time": "2024-03-23T20:36:44.990421Z"
    }
   },
   "outputs": [],
   "source": [
    "# This cell takes time about 35 minutes.\n",
    "\n",
    "model_name = 'Random Forest'\n",
    "model_idx = 2\n",
    "\n",
    "model = RandomForestClassifier(random_state=42, n_jobs=-1)\n",
    "\n",
    "param_grids = {'n_estimators': [50, 100, 200,\n",
    "                                300, 500],\n",
    "                'min_samples_leaf': [1, 2, 4],\n",
    "                 'min_samples_split': [2, 5, 10],\n",
    "               'max_depth': [3, 5, 7, 9, 11]}\n",
    "\n",
    "grid_search = GridSearchCV(model, param_grids, cv=5, scoring='f1_macro')\n",
    "grid_search.fit(X_train_scaled, y_train)\n",
    "\n",
    "cv_score = grid_search.best_score_\n",
    "\n",
    "model_rf = grid_search.best_estimator_"
   ]
  },
  {
   "cell_type": "code",
   "execution_count": 26,
   "id": "484d8c8d",
   "metadata": {
    "ExecuteTime": {
     "end_time": "2024-03-23T21:13:52.502123Z",
     "start_time": "2024-03-23T21:13:45.843113Z"
    }
   },
   "outputs": [
    {
     "name": "stdout",
     "output_type": "stream",
     "text": [
      "0.28\n"
     ]
    },
    {
     "data": {
      "text/html": [
       "<div>\n",
       "<style scoped>\n",
       "    .dataframe tbody tr th:only-of-type {\n",
       "        vertical-align: middle;\n",
       "    }\n",
       "\n",
       "    .dataframe tbody tr th {\n",
       "        vertical-align: top;\n",
       "    }\n",
       "\n",
       "    .dataframe thead th {\n",
       "        text-align: right;\n",
       "    }\n",
       "</style>\n",
       "<table border=\"1\" class=\"dataframe\">\n",
       "  <thead>\n",
       "    <tr style=\"text-align: right;\">\n",
       "      <th></th>\n",
       "      <th>Model</th>\n",
       "      <th>Train Score</th>\n",
       "      <th>CV Score</th>\n",
       "      <th>Test Score</th>\n",
       "      <th>Params</th>\n",
       "    </tr>\n",
       "  </thead>\n",
       "  <tbody>\n",
       "    <tr>\n",
       "      <th>0</th>\n",
       "      <td>Logistic Regression</td>\n",
       "      <td>0.673793</td>\n",
       "      <td>0.581462</td>\n",
       "      <td>0.672751</td>\n",
       "      <td>{'C': 0.01, 'penalty': None}</td>\n",
       "    </tr>\n",
       "    <tr>\n",
       "      <th>1</th>\n",
       "      <td>Decision Tree</td>\n",
       "      <td>0.699446</td>\n",
       "      <td>0.585348</td>\n",
       "      <td>0.670886</td>\n",
       "      <td>{'criterion': 'gini', 'max_depth': 11, 'min_samples_leaf': 2, 'min_samples_split': 10}</td>\n",
       "    </tr>\n",
       "    <tr>\n",
       "      <th>2</th>\n",
       "      <td>Random Forest</td>\n",
       "      <td>0.705714</td>\n",
       "      <td>0.550309</td>\n",
       "      <td>0.680745</td>\n",
       "      <td>{'max_depth': 11, 'min_samples_leaf': 1, 'min_samples_split': 5, 'n_estimators': 100}</td>\n",
       "    </tr>\n",
       "  </tbody>\n",
       "</table>\n",
       "</div>"
      ],
      "text/plain": [
       "                 Model  Train Score  CV Score  Test Score  \\\n",
       "0  Logistic Regression     0.673793  0.581462    0.672751   \n",
       "1        Decision Tree     0.699446  0.585348    0.670886   \n",
       "2        Random Forest     0.705714  0.550309    0.680745   \n",
       "\n",
       "                                                                                   Params  \n",
       "0                                                            {'C': 0.01, 'penalty': None}  \n",
       "1  {'criterion': 'gini', 'max_depth': 11, 'min_samples_leaf': 2, 'min_samples_split': 10}  \n",
       "2   {'max_depth': 11, 'min_samples_leaf': 1, 'min_samples_split': 5, 'n_estimators': 100}  "
      ]
     },
     "execution_count": 26,
     "metadata": {},
     "output_type": "execute_result"
    }
   ],
   "source": [
    "# find the right threshold for cutting prediction\n",
    "y_pred = model_rf.predict_proba(X_train_scaled)[:, 1]\n",
    "list_f1score_rf = []\n",
    "for i in np.arange(0, 1, 0.01):\n",
    "    \n",
    "    list_f1score_rf.append(f1_score(y_train, y_pred>=i, average='macro'))\n",
    "\n",
    "ind_rf = np.argmax(list_f1score_rf)\n",
    "\n",
    "f1_thresh_rf = np.arange(0, 1, 0.01)[ind_rf]\n",
    "print(f1_thresh_rf)\n",
    "\n",
    "train_score = f1_score(y_train, model_rf.predict_proba(X_train_scaled)[:, 1]>f1_thresh_rf, average='macro')\n",
    "test_score = f1_score(y_test, model_rf.predict_proba(X_test_scaled)[:, 1]>f1_thresh_rf, average='macro')\n",
    "results.loc[model_idx] = [model_name, train_score, cv_score, test_score, grid_search.best_params_]\n",
    "results"
   ]
  },
  {
   "cell_type": "code",
   "execution_count": 27,
   "id": "c44f6fef",
   "metadata": {
    "ExecuteTime": {
     "end_time": "2024-03-23T21:13:52.659942Z",
     "start_time": "2024-03-23T21:13:52.503306Z"
    }
   },
   "outputs": [
    {
     "name": "stdout",
     "output_type": "stream",
     "text": [
      "Confusion Matrix:\n",
      " [[38922  4817]\n",
      " [ 3489  3508]]\n",
      "              precision    recall  f1-score   support\n",
      "\n",
      "         0.0       0.92      0.89      0.90     43739\n",
      "         1.0       0.42      0.50      0.46      6997\n",
      "\n",
      "    accuracy                           0.84     50736\n",
      "   macro avg       0.67      0.70      0.68     50736\n",
      "weighted avg       0.85      0.84      0.84     50736\n",
      "\n"
     ]
    }
   ],
   "source": [
    "y_pred = model_rf.predict_proba(X_test_scaled)[:, 1]\n",
    "print('Confusion Matrix:\\n', confusion_matrix(y_test, y_pred>f1_thresh_rf))\n",
    "print(classification_report(y_test, y_pred>f1_thresh_rf))"
   ]
  },
  {
   "cell_type": "code",
   "execution_count": 28,
   "id": "d1837a92",
   "metadata": {
    "ExecuteTime": {
     "end_time": "2024-03-23T21:13:52.865580Z",
     "start_time": "2024-03-23T21:13:52.661057Z"
    }
   },
   "outputs": [
    {
     "data": {
      "image/png": "[encoded data removed]",
      "text/plain": [
       "<Figure size 800x600 with 1 Axes>"
      ]
     },
     "metadata": {},
     "output_type": "display_data"
    }
   ],
   "source": [
    "# Extract feature importances\n",
    "importances = model_rf.feature_importances_\n",
    "\n",
    "# Create DataFrame and sort\n",
    "feature_df = pd.DataFrame({'feature': X_train_scaled.columns, 'importance': importances})\n",
    "feature_df = feature_df.sort_values(by='importance', ascending=False)  \n",
    "\n",
    "# Plot the feature importances\n",
    "plt.figure(figsize=(8, 6)) \n",
    "plt.barh(feature_df['feature'], feature_df['importance'])\n",
    "plt.xlabel('Importance')\n",
    "plt.ylabel('Features')\n",
    "plt.title(f'Random Forest Feature Importances')\n",
    "plt.show()"
   ]
  },
  {
   "cell_type": "code",
   "execution_count": 29,
   "id": "13a4cf10",
   "metadata": {
    "ExecuteTime": {
     "end_time": "2024-03-23T21:13:52.985584Z",
     "start_time": "2024-03-23T21:13:52.981442Z"
    }
   },
   "outputs": [
    {
     "data": {
      "text/html": [
       "<div>\n",
       "<style scoped>\n",
       "    .dataframe tbody tr th:only-of-type {\n",
       "        vertical-align: middle;\n",
       "    }\n",
       "\n",
       "    .dataframe tbody tr th {\n",
       "        vertical-align: top;\n",
       "    }\n",
       "\n",
       "    .dataframe thead th {\n",
       "        text-align: right;\n",
       "    }\n",
       "</style>\n",
       "<table border=\"1\" class=\"dataframe\">\n",
       "  <thead>\n",
       "    <tr style=\"text-align: right;\">\n",
       "      <th></th>\n",
       "      <th>feature</th>\n",
       "      <th>importance</th>\n",
       "    </tr>\n",
       "  </thead>\n",
       "  <tbody>\n",
       "    <tr>\n",
       "      <th>13</th>\n",
       "      <td>GenHlth</td>\n",
       "      <td>0.193859</td>\n",
       "    </tr>\n",
       "    <tr>\n",
       "      <th>0</th>\n",
       "      <td>HighBP</td>\n",
       "      <td>0.177841</td>\n",
       "    </tr>\n",
       "    <tr>\n",
       "      <th>3</th>\n",
       "      <td>BMI</td>\n",
       "      <td>0.167229</td>\n",
       "    </tr>\n",
       "    <tr>\n",
       "      <th>1</th>\n",
       "      <td>HighChol</td>\n",
       "      <td>0.085063</td>\n",
       "    </tr>\n",
       "    <tr>\n",
       "      <th>18</th>\n",
       "      <td>Age</td>\n",
       "      <td>0.076488</td>\n",
       "    </tr>\n",
       "    <tr>\n",
       "      <th>16</th>\n",
       "      <td>DiffWalk</td>\n",
       "      <td>0.067073</td>\n",
       "    </tr>\n",
       "    <tr>\n",
       "      <th>6</th>\n",
       "      <td>HeartDiseaseorAttack</td>\n",
       "      <td>0.040975</td>\n",
       "    </tr>\n",
       "    <tr>\n",
       "      <th>15</th>\n",
       "      <td>PhysHlth</td>\n",
       "      <td>0.040957</td>\n",
       "    </tr>\n",
       "    <tr>\n",
       "      <th>20</th>\n",
       "      <td>Income</td>\n",
       "      <td>0.037781</td>\n",
       "    </tr>\n",
       "    <tr>\n",
       "      <th>19</th>\n",
       "      <td>Education</td>\n",
       "      <td>0.019259</td>\n",
       "    </tr>\n",
       "    <tr>\n",
       "      <th>14</th>\n",
       "      <td>MentHlth</td>\n",
       "      <td>0.018489</td>\n",
       "    </tr>\n",
       "    <tr>\n",
       "      <th>7</th>\n",
       "      <td>PhysActivity</td>\n",
       "      <td>0.011925</td>\n",
       "    </tr>\n",
       "    <tr>\n",
       "      <th>5</th>\n",
       "      <td>Stroke</td>\n",
       "      <td>0.010718</td>\n",
       "    </tr>\n",
       "    <tr>\n",
       "      <th>10</th>\n",
       "      <td>HvyAlcoholConsump</td>\n",
       "      <td>0.009470</td>\n",
       "    </tr>\n",
       "    <tr>\n",
       "      <th>17</th>\n",
       "      <td>Sex</td>\n",
       "      <td>0.009404</td>\n",
       "    </tr>\n",
       "    <tr>\n",
       "      <th>4</th>\n",
       "      <td>Smoker</td>\n",
       "      <td>0.006383</td>\n",
       "    </tr>\n",
       "    <tr>\n",
       "      <th>9</th>\n",
       "      <td>Veggies</td>\n",
       "      <td>0.006008</td>\n",
       "    </tr>\n",
       "    <tr>\n",
       "      <th>2</th>\n",
       "      <td>CholCheck</td>\n",
       "      <td>0.005924</td>\n",
       "    </tr>\n",
       "    <tr>\n",
       "      <th>8</th>\n",
       "      <td>Fruits</td>\n",
       "      <td>0.005445</td>\n",
       "    </tr>\n",
       "    <tr>\n",
       "      <th>12</th>\n",
       "      <td>NoDocbcCost</td>\n",
       "      <td>0.005349</td>\n",
       "    </tr>\n",
       "    <tr>\n",
       "      <th>11</th>\n",
       "      <td>AnyHealthcare</td>\n",
       "      <td>0.004365</td>\n",
       "    </tr>\n",
       "  </tbody>\n",
       "</table>\n",
       "</div>"
      ],
      "text/plain": [
       "                 feature  importance\n",
       "13               GenHlth    0.193859\n",
       "0                 HighBP    0.177841\n",
       "3                    BMI    0.167229\n",
       "1               HighChol    0.085063\n",
       "18                   Age    0.076488\n",
       "16              DiffWalk    0.067073\n",
       "6   HeartDiseaseorAttack    0.040975\n",
       "15              PhysHlth    0.040957\n",
       "20                Income    0.037781\n",
       "19             Education    0.019259\n",
       "14              MentHlth    0.018489\n",
       "7           PhysActivity    0.011925\n",
       "5                 Stroke    0.010718\n",
       "10     HvyAlcoholConsump    0.009470\n",
       "17                   Sex    0.009404\n",
       "4                 Smoker    0.006383\n",
       "9                Veggies    0.006008\n",
       "2              CholCheck    0.005924\n",
       "8                 Fruits    0.005445\n",
       "12           NoDocbcCost    0.005349\n",
       "11         AnyHealthcare    0.004365"
      ]
     },
     "execution_count": 29,
     "metadata": {},
     "output_type": "execute_result"
    }
   ],
   "source": [
    "feature_df"
   ]
  },
  {
   "cell_type": "markdown",
   "id": "1e33ea2d",
   "metadata": {},
   "source": [
    "## Save models"
   ]
  },
  {
   "cell_type": "code",
   "execution_count": 30,
   "id": "e3958c8b",
   "metadata": {
    "ExecuteTime": {
     "end_time": "2024-03-23T21:13:52.996309Z",
     "start_time": "2024-03-23T21:13:52.986657Z"
    }
   },
   "outputs": [],
   "source": [
    "# save trained models\n",
    "model_pkl_file = \"./models/data583_2classdiabetes_3models_robust.pkl\"  \n",
    "\n",
    "with open(model_pkl_file, 'wb') as file:  \n",
    "    pickle.dump(model_lr, file)\n",
    "    pickle.dump(model_dt, file)\n",
    "    pickle.dump(model_rf, file)\n",
    "    pickle.dump(scaler, file)\n",
    "    "
   ]
  },
  {
   "cell_type": "code",
   "execution_count": 31,
   "id": "8ff7faf6",
   "metadata": {
    "ExecuteTime": {
     "end_time": "2024-03-23T21:13:53.006862Z",
     "start_time": "2024-03-23T21:13:52.997409Z"
    }
   },
   "outputs": [],
   "source": [
    "# load trained models\n",
    "model_pkl_file = \"./models/data583_2classdiabetes_3models_robust.pkl\"  \n",
    "\n",
    "file = open(model_pkl_file,'rb')\n",
    "model_lr = pickle.load(file)\n",
    "model_dt = pickle.load(file)\n",
    "model_rf = pickle.load(file)\n",
    "scaler = pickle.load(file)\n",
    "file.close()"
   ]
  },
  {
   "cell_type": "markdown",
   "id": "bf466818",
   "metadata": {},
   "source": [
    "\n",
    "## All models performance"
   ]
  },
  {
   "cell_type": "code",
   "execution_count": 32,
   "id": "d935ea66",
   "metadata": {
    "ExecuteTime": {
     "end_time": "2024-03-23T21:13:53.091696Z",
     "start_time": "2024-03-23T21:13:53.007964Z"
    }
   },
   "outputs": [
    {
     "data": {
      "image/png": "[encoded data removed]",
      "text/plain": [
       "<Figure size 600x400 with 1 Axes>"
      ]
     },
     "metadata": {},
     "output_type": "display_data"
    }
   ],
   "source": [
    "results = results.sort_values('Test Score', ascending=False)\n",
    "plt.figure(figsize=(6, 4))\n",
    "plt.bar(results['Model'], results['Test Score'])\n",
    "plt.xlabel('Models')\n",
    "plt.ylabel('F1-Score')\n",
    "plt.title('Model Performance Comparison (Testing Dataset)')\n",
    "plt.show()"
   ]
  },
  {
   "cell_type": "code",
   "execution_count": 33,
   "id": "c12552d6",
   "metadata": {
    "ExecuteTime": {
     "end_time": "2024-03-23T21:13:53.098707Z",
     "start_time": "2024-03-23T21:13:53.093127Z"
    }
   },
   "outputs": [
    {
     "data": {
      "text/html": [
       "<div>\n",
       "<style scoped>\n",
       "    .dataframe tbody tr th:only-of-type {\n",
       "        vertical-align: middle;\n",
       "    }\n",
       "\n",
       "    .dataframe tbody tr th {\n",
       "        vertical-align: top;\n",
       "    }\n",
       "\n",
       "    .dataframe thead th {\n",
       "        text-align: right;\n",
       "    }\n",
       "</style>\n",
       "<table border=\"1\" class=\"dataframe\">\n",
       "  <thead>\n",
       "    <tr style=\"text-align: right;\">\n",
       "      <th></th>\n",
       "      <th>Model</th>\n",
       "      <th>Train Score</th>\n",
       "      <th>Test Score</th>\n",
       "      <th>Params</th>\n",
       "    </tr>\n",
       "  </thead>\n",
       "  <tbody>\n",
       "    <tr>\n",
       "      <th>2</th>\n",
       "      <td>Random Forest</td>\n",
       "      <td>0.705714</td>\n",
       "      <td>0.680745</td>\n",
       "      <td>{'max_depth': 11, 'min_samples_leaf': 1, 'min_samples_split': 5, 'n_estimators': 100}</td>\n",
       "    </tr>\n",
       "    <tr>\n",
       "      <th>0</th>\n",
       "      <td>Logistic Regression</td>\n",
       "      <td>0.673793</td>\n",
       "      <td>0.672751</td>\n",
       "      <td>{'C': 0.01, 'penalty': None}</td>\n",
       "    </tr>\n",
       "    <tr>\n",
       "      <th>1</th>\n",
       "      <td>Decision Tree</td>\n",
       "      <td>0.699446</td>\n",
       "      <td>0.670886</td>\n",
       "      <td>{'criterion': 'gini', 'max_depth': 11, 'min_samples_leaf': 2, 'min_samples_split': 10}</td>\n",
       "    </tr>\n",
       "  </tbody>\n",
       "</table>\n",
       "</div>"
      ],
      "text/plain": [
       "                 Model  Train Score  Test Score  \\\n",
       "2        Random Forest     0.705714    0.680745   \n",
       "0  Logistic Regression     0.673793    0.672751   \n",
       "1        Decision Tree     0.699446    0.670886   \n",
       "\n",
       "                                                                                   Params  \n",
       "2   {'max_depth': 11, 'min_samples_leaf': 1, 'min_samples_split': 5, 'n_estimators': 100}  \n",
       "0                                                            {'C': 0.01, 'penalty': None}  \n",
       "1  {'criterion': 'gini', 'max_depth': 11, 'min_samples_leaf': 2, 'min_samples_split': 10}  "
      ]
     },
     "execution_count": 33,
     "metadata": {},
     "output_type": "execute_result"
    }
   ],
   "source": [
    "results.drop(columns='CV Score')\n",
    "# CV Score auto-cut the prediction with a threshold equals to 0.5."
   ]
  },
  {
   "cell_type": "markdown",
   "id": "42c8f19e",
   "metadata": {},
   "source": [
    "My models have the performance of F1-Scores higher than this work in the Kaggle.\n",
    "https://www.kaggle.com/code/ohoodalsohaime/diabetes-indicators-classfication-project-part1"
   ]
  },
  {
   "cell_type": "code",
   "execution_count": null,
   "id": "f0a361b3",
   "metadata": {},
   "outputs": [],
   "source": []
  },
  {
   "cell_type": "code",
   "execution_count": null,
   "id": "8cbbd050",
   "metadata": {},
   "outputs": [],
   "source": []
  }
 ],
 "metadata": {
  "kernelspec": {
   "display_name": "Python 3 (ipykernel)",
   "language": "python",
   "name": "python3"
  },
  "language_info": {
   "codemirror_mode": {
    "name": "ipython",
    "version": 3
   },
   "file_extension": ".py",
   "mimetype": "text/x-python",
   "name": "python",
   "nbconvert_exporter": "python",
   "pygments_lexer": "ipython3",
   "version": "3.9.6"
  },
  "toc": {
   "base_numbering": 1,
   "nav_menu": {},
   "number_sections": true,
   "sideBar": true,
   "skip_h1_title": false,
   "title_cell": "Table of Contents",
   "title_sidebar": "Contents",
   "toc_cell": false,
   "toc_position": {
    "height": "calc(100% - 180px)",
    "left": "10px",
    "top": "150px",
    "width": "165px"
   },
   "toc_section_display": true,
   "toc_window_display": true
  }
 },
 "nbformat": 4,
 "nbformat_minor": 5
}
